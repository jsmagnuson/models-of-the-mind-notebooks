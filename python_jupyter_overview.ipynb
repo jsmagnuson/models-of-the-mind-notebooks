{
 "cells": [
  {
   "cell_type": "markdown",
   "metadata": {
    "id": "4rvUdrpydfUu"
   },
   "source": [
    "# Models of the Mind, 2023\n",
    "\n",
    "### INTRODUCTION TO JUPYTER NOTEBOOKS AND PYTHON\n",
    "\n",
    "*Based on a similar notebook used at BCBL for incoming MSc students developed by Martin Cooke*\n",
    "\n",
    "-------"
   ]
  },
  {
   "cell_type": "markdown",
   "metadata": {
    "id": "uCkb-cqu5Iah"
   },
   "source": [
    "You're reading a *Jupyter* notebook right now. The text is written in *Markdown*, a simple markup language that allows rapid conversion from text to a rendered form (e.g., html).\n",
    "\n",
    "### How to run notebooks\n",
    "\n",
    "There are various platforms you can use to run and edit Jupyter notebooks. You can run them locally on your own computer, by putting the `.ipynb` notebook file(s) in a directory, installing `jupyter lab` on your computer, and then calling `jupyter lab` from the directory where the `.ipynb` files are. Alternatively, you can put the `.ipynb` files on google drive. Then if you double-click them (or open them from the menu), they will open in **google colaboratory** (colab). There are some minor differences in how notebooks function in those two platforms, but we won't worry about that for now.\n",
    "\n",
    "### What can you do with a notebook?\n",
    "\n",
    "A note book consists of a series of **cells**. A cell is a place where you can enter either **code** or **markdown** text. Code can be executed, while markdown can be rendered. In Jupyter lab, there is a 'play' icon at the top of the window that you use to execute either kind of cell. In colab, markdown is rendered automatically, and the play icon shows up for code cells when you hover the mouse over the cell.\n",
    "\n",
    "Jupyter provides 'kernels' There are over 100 supported in Jupyter lab. Colab is primarily for Python, but you can also use R (R is a statistical programming language; we will talk about it later). If you want to use both within a notebook, there are ways to do it, but we will skip this for now.\n",
    "\n",
    "We will also occasionally use Jupyter 'directives' within notebooks to do special tasks (such as installing or loading packages, or loading data from an external source). While your Python and R code should run if you put it to a standard script outside the notebook, Jupyter directives will not.\n",
    "\n",
    "If you are looking at notebooks on the course website, you can run things, but you cannot save things. When working with local notebooks or colab, don't forget to save your notebook as you go along.\n",
    "\n",
    "*Let's try some examples.*"
   ]
  },
  {
   "cell_type": "markdown",
   "metadata": {
    "id": "1KD38znLNsoq"
   },
   "source": [
    "# Exploring Python\n",
    "\n",
    "Remember, you have access to DataCamp online tutorials through this course. See the course website for details."
   ]
  },
  {
   "cell_type": "markdown",
   "metadata": {
    "id": "tWONov9XNso0"
   },
   "source": [
    "## A quick tour of Python"
   ]
  },
  {
   "cell_type": "markdown",
   "metadata": {
    "id": "o74Wmi0FNso1"
   },
   "source": [
    "Python is an _interpreted_ language. This is in contrast to a compiled language (such as C). When you use a compiled language, you first compile a script (which converts the code to fast machine code), which you then run as an executable file. If there are problems, you have to edit the file and recompile.\n",
    "\n",
    "In an interpreted language (like Python or R), machine code conversion happens on the fly, allowing you to interact with the interpreter and change things within a session. This means you can use it in an exploratory way to get immediate results. Let's look at some examples."
   ]
  },
  {
   "cell_type": "code",
   "execution_count": 3,
   "metadata": {
    "colab": {
     "base_uri": "https://localhost:8080/"
    },
    "id": "Omg63U2QNso2",
    "outputId": "50df0cb9-a79a-4895-bbe1-1a47cf7d760f"
   },
   "outputs": [
    {
     "data": {
      "text/plain": [
       "4"
      ]
     },
     "execution_count": 3,
     "metadata": {},
     "output_type": "execute_result"
    }
   ],
   "source": [
    "# On a single line, anything to the right of a '#' is a comment, and ignored by\n",
    "# the interpreter.\n",
    "\n",
    "# You can use it like a calculator -- press the play icon to execute\n",
    "2+2"
   ]
  },
  {
   "cell_type": "markdown",
   "metadata": {
    "id": "gb6YVNtgUEer"
   },
   "source": [
    "We can set a variable value and print it:"
   ]
  },
  {
   "cell_type": "code",
   "execution_count": 8,
   "metadata": {
    "colab": {
     "base_uri": "https://localhost:8080/"
    },
    "id": "0caTBX7UUCgb",
    "outputId": "1a969d33-1783-438e-917a-628faba1d634"
   },
   "outputs": [
    {
     "name": "stdout",
     "output_type": "stream",
     "text": [
      "4\n",
      "4\n",
      "Jupyter: The value of a is 4\n"
     ]
    }
   ],
   "source": [
    "a = 2 + 2 # set a to 4 -- note that this is a comment!\n",
    "print(a)\n",
    "print(f'{a}') # slightly complex way to print\n",
    "print(f'The value of a is {a}') # but it allows you to mix with text\n"
   ]
  },
  {
   "cell_type": "markdown",
   "metadata": {
    "id": "TbLCb0hiNso8"
   },
   "source": [
    "Python infers the variable type by the precision you use. Also, we can see that the kernel knows the value of `a` that we just set above."
   ]
  },
  {
   "cell_type": "code",
   "execution_count": 23,
   "metadata": {
    "colab": {
     "base_uri": "https://localhost:8080/"
    },
    "id": "COuSMlhvNso_",
    "outputId": "43e7fb8e-f188-48b7-c3ce-5087f5ca1827"
   },
   "outputs": [
    {
     "name": "stdout",
     "output_type": "stream",
     "text": [
      "a=4, x=3.0, a * x = 12.0\n"
     ]
    }
   ],
   "source": [
    "x = 2.0 + 1 # one float makes x a float\n",
    "print(f'a={a}, x={x}, a * x = {a*x}')"
   ]
  },
  {
   "cell_type": "code",
   "execution_count": 13,
   "metadata": {
    "colab": {
     "base_uri": "https://localhost:8080/"
    },
    "id": "QIsnIsmWNspA",
    "outputId": "828e921e-b9cd-454c-8ee4-402cda8ddb0a"
   },
   "outputs": [
    {
     "data": {
      "text/plain": [
       "False"
      ]
     },
     "execution_count": 13,
     "metadata": {},
     "output_type": "execute_result"
    }
   ],
   "source": [
    "# it supports string operations in a natural way\n",
    "'fox' in 'the lazy fox jumped over the hyperactive dog'"
   ]
  },
  {
   "cell_type": "code",
   "execution_count": 15,
   "metadata": {
    "colab": {
     "base_uri": "https://localhost:8080/"
    },
    "id": "5pPmzYr0NspB",
    "outputId": "1259ede9-7835-4b94-d33b-5dfb8e81f9f4"
   },
   "outputs": [
    {
     "name": "stdout",
     "output_type": "stream",
     "text": [
      "jasper@pets.com\n"
     ]
    }
   ],
   "source": [
    "# You can create useful structures to store information, like this 'dictionary'\n",
    "email = {'jim': 'j.magnuson@xyz.org', 'jasper': 'jasper@pets.com'}\n",
    "print(email['jasper'])"
   ]
  },
  {
   "cell_type": "markdown",
   "metadata": {
    "id": "4AWR_GY5WmJn"
   },
   "source": [
    "Plus we can print the whole dictionary:"
   ]
  },
  {
   "cell_type": "code",
   "execution_count": 16,
   "metadata": {
    "colab": {
     "base_uri": "https://localhost:8080/"
    },
    "id": "pfkA4p_3WpSr",
    "outputId": "6b4c620b-cb6c-4381-aaad-ead373d80612"
   },
   "outputs": [
    {
     "name": "stdout",
     "output_type": "stream",
     "text": [
      "{'jim': 'j.magnuson@xyz.org', 'jasper': 'jasper@pets.com'}\n"
     ]
    }
   ],
   "source": [
    "print(email)"
   ]
  },
  {
   "cell_type": "code",
   "execution_count": 1,
   "metadata": {
    "colab": {
     "base_uri": "https://localhost:8080/"
    },
    "id": "VYs80cwPNspC",
    "outputId": "e0d193df-80b6-46f5-9773-08a0f18524c5"
   },
   "outputs": [
    {
     "name": "stdout",
     "output_type": "stream",
     "text": [
      "[1, 2, 3, 5, 7, 11, 13, 17, 19, 23, 29, 31, 37, 41, 43, 47]\n"
     ]
    }
   ],
   "source": [
    "# we can also write more complex scripts without much code\n",
    "# e.g. prime numbers below 50\n",
    "print([x for x in range(1, 50)\n",
    "     if not any([x % d == 0 for d in range(2, int(x**.5)+1)])])\n",
    "\n",
    "# See if you can figure out how this does this -- see exercise at end...\n",
    "# Note that you could change the (1, 50) above to a different range; \n",
    "# maybe try changing it to (50, 100)"
   ]
  },
  {
   "cell_type": "markdown",
   "metadata": {
    "id": "_BQeRVAcNspD"
   },
   "source": [
    "But Python is a general-purpose programming language and can be used for virtually anything with the support of code written by other people. Here are some examples."
   ]
  },
  {
   "cell_type": "markdown",
   "metadata": {
    "id": "mb_JLEuiNspL"
   },
   "source": [
    "## Different ways to use Python"
   ]
  },
  {
   "cell_type": "markdown",
   "metadata": {
    "id": "wmIJR5ykNspL"
   },
   "source": [
    "**Method 1** Via a simple python interpreter launched in a terminal/shell window by typing\n",
    "\n",
    "> `python`\n",
    "\n",
    "Pros\n",
    "    \n",
    "- good for quick explorations of coding constructs\n",
    "    \n",
    "Cons\n",
    "    \n",
    "- not suitable for developing code nor really for interactions using graphics\n",
    "- bare bones Python only\n",
    "\n",
    "---------"
   ]
  },
  {
   "cell_type": "markdown",
   "metadata": {
    "id": "AyyUdtF_NspM"
   },
   "source": [
    "**Method 2** Via an interactive interpreter\n",
    "\n",
    "> `ipython`\n",
    "\n",
    "Pros\n",
    "\n",
    "- can interact with operating system e.g. ls, cd\n",
    "- interactive help\n",
    "- command completion\n",
    "- ... and more\n",
    "    \n",
    "Cons\n",
    "\n",
    "- not suitable for code development\n",
    "\n",
    "-------"
   ]
  },
  {
   "cell_type": "markdown",
   "metadata": {
    "id": "u5TR3IuANspN"
   },
   "source": [
    "**Method 3** Via a Jupyter notebook\n",
    "\n",
    "> `jupyter notebook`\n",
    "\n",
    "or\n",
    "\n",
    "> `jupyter lab`\n",
    "\n",
    "Pros\n",
    "- similar to (2) but with graphics and workbook-style documentation\n",
    "- powerful enough for many coding purposes\n",
    "- books written using notebooks\n",
    "- great for distributing ideas to colleagues and for teaching\n",
    "- excellent for prototyping\n",
    "- supports R and dozens of other languages\n",
    "    \n",
    "Cons\n",
    "- Not really suitable for code that needs to be run regularly\n",
    "- Not suitable for developing complex, multi-file applications\n",
    "- Jupyter can be a little flaky at times (if things seem to be flaky, try save everything, close everything, and start again).\n",
    "\n",
    "**This is the method I use for  my code prototyping and much of analysis and graphics production for my papers. I am using notebooks for all the simulations we will do in this course. **\n",
    "\n",
    "-------"
   ]
  },
  {
   "cell_type": "markdown",
   "metadata": {
    "id": "YHdNbDx8NspO"
   },
   "source": [
    "**Method 4** Use a normal text editor and run the program from the command line\n",
    "\n",
    "> `python myprog.py`\n",
    "\n",
    "Pros\n",
    "- totally flexible\n",
    "- easily integrated with version control e.g. git (you can do this with `.ipynb` files, too, but it's harder to actually understand code differences)\n",
    "- best way for many complex programs involving many files\n",
    "    \n",
    "Cons\n",
    "- no interactivity so can be inefficient for code prototyping\n",
    "\n",
    "-------"
   ]
  },
  {
   "cell_type": "markdown",
   "metadata": {
    "id": "sDFceo-KNspP"
   },
   "source": [
    "**Method 5** Via an interactive development environment (IDE)\n",
    "\n",
    "Pros\n",
    "- feature-rich\n",
    "\n",
    "\n",
    "Cons\n",
    "- simplicity is illusory for some (such as me!)\n",
    "- can get in the way of coding\n"
   ]
  },
  {
   "cell_type": "markdown",
   "metadata": {
    "id": "kPNX7solNspP"
   },
   "source": [
    "# More on Jupyter and Markdown"
   ]
  },
  {
   "cell_type": "markdown",
   "metadata": {
    "id": "4MG9Pw7-NspP"
   },
   "source": [
    "You're reading a *Jupyter* notebook right now. And this text is being written in *Markdown*.\n",
    "\n",
    "A note book consists of a series of **cells**\n",
    "\n",
    "Each cell is either **code** or **markdown** text. For our notebooks the code will always be either Python or Jupyter directives (we'll meet some of these as we go along). However, it is possible to set things up to include R code too.\n",
    "\n",
    "You choose the type of cell using the dropdown menu at the top of the page. Alternatively (and easier in the long run), you can use `esc-m` to change the cell type to markdown, and `esc-y` to change it to code.\n",
    "\n",
    "\n",
    "You can insert new cells above and below the current cell using the menu above, or (quicker), use `esc-a` and `esc-b` to insert above or below respectively.\n",
    "\n",
    "**Code** in a cell is executed on pressing `shift` and `return` simultaneously\n",
    "when your cursor is in that cell.\n",
    "\n",
    "**Markdown** is a simple way of creating formatted text. Let's see how this works with the current workbook you're reading right now.\n",
    "\n",
    "Finally, don't forget to save your notebook as you go along."
   ]
  },
  {
   "cell_type": "markdown",
   "metadata": {
    "id": "QoxpnTTZNspQ"
   },
   "source": [
    "Useful sources:\n",
    "\n",
    "> [Jupyter](http://jupyter.org)\n",
    "\n",
    "> [learn Markdown in 10 minutes](http://www.markdowntutorial.com)\n",
    "\n",
    "> [Markdown syntax](https://www.markdownguide.org/basic-syntax/)"
   ]
  },
  {
   "cell_type": "markdown",
   "metadata": {
    "id": "X9ww8z3fNspQ"
   },
   "source": [
    "# Optional exercise (5-10 mins)\n",
    "\n",
    "* create a new notebook that will be devoted to explaining the prime nubmer code cell just above 'Different ways of using Python'\n",
    "* give it a title (edit the name at the top)\n",
    "* save it\n",
    "* add a cell in Markdown with a heading (ie precede it with a #) and a description of what the notebook is all about\n",
    "* add a code cell and paste in the prime number code using the `Insert` option\n",
    "* add a markdown cell below the code and explain what it does\n",
    "* explore a few shortcuts:\n",
    "    * add a cell above the current one using `esc-a`\n",
    "    * ... below using `esc-b`\n",
    "    * convert cell to Markdown using `esc-m`\n",
    "    * convert cell to code using `esc-y`\n",
    "* add a Python cell and type `import this`\n",
    "* keep your notebook open: you're going to use it a lot in the next session\n",
    "\n"
   ]
  },
  {
   "cell_type": "markdown",
   "metadata": {
    "id": "OwnV2jk5NspR"
   },
   "source": [
    "Final note: a Jupyter Notebook is a text file (with the extension .ipynb which stands for interactive python notebook) which can be opened and inspected in a normal text editor, or indeed from the command line e.g.\n",
    "\n",
    "> `cat python_jupyter_overview.ipynb`\n",
    "\n",
    "BTW `cat` is the Unix command to con**CAT**enate files; with just a single file it prints it to the terminal window. See [definition of Unix cat on Wikipedia](https://en.wikipedia.org/wiki/Cat_%28Unix%29)"
   ]
  },
  {
   "cell_type": "code",
   "execution_count": 24,
   "metadata": {
    "colab": {
     "base_uri": "https://localhost:8080/"
    },
    "id": "7yLBbnaoNspR",
    "outputId": "bda477a7-c389-455f-a8bd-924453b7b725"
   },
   "outputs": [
    {
     "name": "stdout",
     "output_type": "stream",
     "text": [
      "cat: python_jupyter_overview.ipynb: No such file or directory\n"
     ]
    }
   ],
   "source": [
    "# since we can use some Unix commands in code windows, let's look at the current notebook here\n",
    "# use ! to tell Jupyter to run it as an operating system (OS) command\n",
    "\n",
    "# N.B.: This will only work if the ipynb file is in the current directory; don't worry if you get an error\n",
    "!cat python_jupyter_overview.ipynb"
   ]
  },
  {
   "cell_type": "code",
   "execution_count": null,
   "metadata": {
    "id": "zzAvimbzNspR"
   },
   "outputs": [],
   "source": []
  }
 ],
 "metadata": {
  "colab": {
   "provenance": []
  },
  "kernelspec": {
   "display_name": "Python 3 (ipykernel)",
   "language": "python",
   "name": "python3"
  },
  "language_info": {
   "codemirror_mode": {
    "name": "ipython",
    "version": 3
   },
   "file_extension": ".py",
   "mimetype": "text/x-python",
   "name": "python",
   "nbconvert_exporter": "python",
   "pygments_lexer": "ipython3",
   "version": "3.10.9"
  }
 },
 "nbformat": 4,
 "nbformat_minor": 4
}
