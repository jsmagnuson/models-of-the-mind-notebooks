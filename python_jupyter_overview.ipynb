{
 "cells": [
  {
   "cell_type": "markdown",
   "metadata": {
    "id": "4rvUdrpydfUu"
   },
   "source": [
    "# Models of the Mind, 2023\n",
    "\n",
    "### INTRODUCTION TO JUPYTER NOTEBOOKS AND PYTHON\n",
    "\n",
    "*Inspired by a similar notebook used at BCBL for incoming MSc students developed by Martin Cooke*\n",
    "\n",
    "-------"
   ]
  },
  {
   "cell_type": "markdown",
   "metadata": {
    "id": "uCkb-cqu5Iah"
   },
   "source": [
    "This webpage is a *Jupyter* notebook. We can have sections with text, written in *Markdown*, a simple markup language that allows rapid conversion from text to a rendered form (e.g., html). We can also have segments with code that you can run and modify.\n",
    "\n",
    "### How to run notebooks\n",
    "\n",
    "There are various platforms you can use to run and edit Jupyter notebooks. You can run them locally on your own computer, by putting the `.ipynb` notebook file(s) in a directory, installing `jupyter lab` on your computer, and then calling `jupyter lab` from the directory where the `.ipynb` files are. Alternatively, you can put the `.ipynb` files on google drive. Then if you double-click them (or open them from the menu), they will open in **google colaboratory** (colab). However, most of the notebooks for this course will not run in colab because they depend on graphics packages not yet available in colab. \n",
    "\n",
    "### What can you do with a notebook?\n",
    "\n",
    "A note book consists of a series of **cells**. A cell is a place where you can enter either **code** or **markdown** text. Code can be executed, while markdown is rendered. In Jupyter, there is a 'play' icon at the top of the window that you use to execute either kind of cell.\n",
    "\n",
    "Jupyter provides 'kernels' There are over 100 programming language kernels supported in Jupyter lab. We will focus on Python, and may sometimes use the statistical programming language `R`. Normally, you select one kernel for a notebook (e.g., *either* Python or R). If you want to use both within a notebook, there are ways to do it, but we will skip this for now.\n",
    "\n",
    "We will also occasionally use Jupyter 'directives' within notebooks to do special tasks (such as installing or loading packages, or loading data from an external source). While your Python and R code should run if you put it to a standard script outside the notebook, Jupyter directives will not.\n",
    "\n",
    "If you are looking at notebooks on the course `Binder` link, you can run things, and you can save things -- but only **temporarily**. If you want to save your work after your session, you have to download it. You can upload it again when you re-open the binder link. However you are working, if you are changing things, save frequently within a session so you do not lose anything if you get disconnected, and save anything you have changed and want to keep **to your local computer** before you leave the session. Otherwise, that work will be irrevocably lost. \n",
    "\n",
    "*Let's try some examples.*"
   ]
  },
  {
   "cell_type": "markdown",
   "metadata": {
    "id": "1KD38znLNsoq"
   },
   "source": [
    "# Exploring Python\n",
    "\n",
    "Remember, you have access to DataCamp online tutorials through this course. See the course website for details."
   ]
  },
  {
   "cell_type": "markdown",
   "metadata": {
    "id": "tWONov9XNso0"
   },
   "source": [
    "## A quick tour of Python"
   ]
  },
  {
   "cell_type": "markdown",
   "metadata": {
    "id": "o74Wmi0FNso1"
   },
   "source": [
    "Python is an _interpreted_ language. This is in contrast to a compiled language (such as C). When you use a compiled language, you first compile a script (which converts the code to fast machine code), which you then run as an executable file. If there are problems, you have to edit the file and recompile.\n",
    "\n",
    "In an interpreted language (like Python or R), machine code conversion happens on the fly, allowing you to interact with the interpreter and change things within a session. This means you can use it in an exploratory way to get immediate results. Let's look at some examples."
   ]
  },
  {
   "cell_type": "code",
   "execution_count": 3,
   "metadata": {
    "colab": {
     "base_uri": "https://localhost:8080/"
    },
    "id": "Omg63U2QNso2",
    "outputId": "50df0cb9-a79a-4895-bbe1-1a47cf7d760f"
   },
   "outputs": [
    {
     "data": {
      "text/plain": [
       "4"
      ]
     },
     "execution_count": 3,
     "metadata": {},
     "output_type": "execute_result"
    }
   ],
   "source": [
    "# On a single line, anything to the right of a '#' is a comment, and ignored by\n",
    "# the interpreter.\n",
    "\n",
    "# You can use it like a calculator -- press the play icon to execute\n",
    "2+2"
   ]
  },
  {
   "cell_type": "markdown",
   "metadata": {
    "id": "gb6YVNtgUEer"
   },
   "source": [
    "We can set a variable value and print it:"
   ]
  },
  {
   "cell_type": "code",
   "execution_count": 8,
   "metadata": {
    "colab": {
     "base_uri": "https://localhost:8080/"
    },
    "id": "0caTBX7UUCgb",
    "outputId": "1a969d33-1783-438e-917a-628faba1d634"
   },
   "outputs": [
    {
     "name": "stdout",
     "output_type": "stream",
     "text": [
      "4\n",
      "4\n",
      "Jupyter: The value of a is 4\n"
     ]
    }
   ],
   "source": [
    "a = 2 + 2 # set a to 4 -- note that this is a comment!\n",
    "print(a)\n",
    "print(f'{a}') # slightly complex way to print\n",
    "print(f'The value of a is {a}') # but it allows you to mix with text\n"
   ]
  },
  {
   "cell_type": "markdown",
   "metadata": {
    "id": "TbLCb0hiNso8"
   },
   "source": [
    "Python infers the variable type by the precision you use. Also, we can see that the kernel knows the value of `a` that we just set above."
   ]
  },
  {
   "cell_type": "code",
   "execution_count": 23,
   "metadata": {
    "colab": {
     "base_uri": "https://localhost:8080/"
    },
    "id": "COuSMlhvNso_",
    "outputId": "43e7fb8e-f188-48b7-c3ce-5087f5ca1827"
   },
   "outputs": [
    {
     "name": "stdout",
     "output_type": "stream",
     "text": [
      "a=4, x=3.0, a * x = 12.0\n"
     ]
    }
   ],
   "source": [
    "x = 2.0 + 1 # one float makes x a float\n",
    "print(f'a={a}, x={x}, a * x = {a*x}')"
   ]
  },
  {
   "cell_type": "code",
   "execution_count": 1,
   "metadata": {
    "colab": {
     "base_uri": "https://localhost:8080/"
    },
    "id": "QIsnIsmWNspA",
    "outputId": "828e921e-b9cd-454c-8ee4-402cda8ddb0a"
   },
   "outputs": [
    {
     "data": {
      "text/plain": [
       "True"
      ]
     },
     "execution_count": 1,
     "metadata": {},
     "output_type": "execute_result"
    }
   ],
   "source": [
    "# it supports string operations in a natural way\n",
    "'good' in 'every good boy does fine'"
   ]
  },
  {
   "cell_type": "code",
   "execution_count": 4,
   "metadata": {
    "colab": {
     "base_uri": "https://localhost:8080/"
    },
    "id": "5pPmzYr0NspB",
    "outputId": "1259ede9-7835-4b94-d33b-5dfb8e81f9f4"
   },
   "outputs": [
    {
     "name": "stdout",
     "output_type": "stream",
     "text": [
      "cdaniels@fauxfiddle.com\n"
     ]
    }
   ],
   "source": [
    "# You can create useful structures to store information, like this 'dictionary'\n",
    "email = {'jim': 'j.magnuson@faux.org', 'charlie': 'cdaniels@fauxfiddle.com'}\n",
    "print(email['charlie'])"
   ]
  },
  {
   "cell_type": "markdown",
   "metadata": {
    "id": "4AWR_GY5WmJn"
   },
   "source": [
    "Plus we can print the whole dictionary:"
   ]
  },
  {
   "cell_type": "code",
   "execution_count": 5,
   "metadata": {
    "colab": {
     "base_uri": "https://localhost:8080/"
    },
    "id": "pfkA4p_3WpSr",
    "outputId": "6b4c620b-cb6c-4381-aaad-ead373d80612"
   },
   "outputs": [
    {
     "name": "stdout",
     "output_type": "stream",
     "text": [
      "{'jim': 'j.magnuson@faux.org', 'charlie': 'cdaniels@fauxfiddle.com'}\n"
     ]
    }
   ],
   "source": [
    "print(email)"
   ]
  },
  {
   "cell_type": "code",
   "execution_count": 6,
   "metadata": {
    "colab": {
     "base_uri": "https://localhost:8080/"
    },
    "id": "VYs80cwPNspC",
    "outputId": "e0d193df-80b6-46f5-9773-08a0f18524c5"
   },
   "outputs": [
    {
     "name": "stdout",
     "output_type": "stream",
     "text": [
      "[1, 2, 3, 5, 7, 11, 13, 17, 19, 23, 29, 31, 37, 41, 43, 47]\n"
     ]
    }
   ],
   "source": [
    "# we can also write more complex scripts without much code\n",
    "# e.g. prime numbers below 50\n",
    "print([x for x in range(1, 50)\n",
    "     if not any([x % d == 0 for d in range(2, int(x**.5)+1)])])\n",
    "\n",
    "# See if you can figure out how this does this -- see exercise at end...\n",
    "# Note that you could change the (1, 50) above to a different range; \n",
    "# maybe try changing it to (50, 100)"
   ]
  },
  {
   "cell_type": "markdown",
   "metadata": {
    "id": "_BQeRVAcNspD"
   },
   "source": [
    "But Python is a general-purpose programming language and can be used for virtually anything with the support of code written by other people. Here are some examples."
   ]
  },
  {
   "cell_type": "markdown",
   "metadata": {
    "id": "mb_JLEuiNspL"
   },
   "source": [
    "## Different ways to use Python"
   ]
  },
  {
   "cell_type": "markdown",
   "metadata": {
    "id": "wmIJR5ykNspL"
   },
   "source": [
    "**(1) Minimal** \n",
    "\n",
    "Launch the interpreter at the command line:\n",
    "\n",
    "> `python`\n",
    "\n",
    "Then you can just enter commands and see what happens. This is fine for very rapid checking (e.g., checking whether a simple command works like you expect), but it's not possible to save your code, and there are no graphics. \n",
    "\n",
    "---------"
   ]
  },
  {
   "cell_type": "markdown",
   "metadata": {
    "id": "AyyUdtF_NspM"
   },
   "source": [
    "**(2) Interactive** \n",
    "\n",
    "> `ipython`\n",
    "\n",
    "Like the minimal method, but you can interact with graphics, etc. But still not suitable for development or writing code. \n",
    "\n",
    "-------"
   ]
  },
  {
   "cell_type": "markdown",
   "metadata": {
    "id": "u5TR3IuANspN"
   },
   "source": [
    "**(3) Jupyter notebook**\n",
    "\n",
    "> `jupyter notebook`\n",
    "\n",
    "or\n",
    "\n",
    "> `jupyter lab`\n",
    "\n",
    "This has all the features of (2), but you can also save your work. You can test simple stuff, but then develop pretty substantial code. It can be a very nice way to interact with a package that you can load, etc. People use this for all kinds of things, and can even put together many notebooks to create a book or documentation of various sorts. For this class, this is our primary method. \n",
    "\n",
    "However, it's not great for very long code or code that needs to be run often. For that, we want method (4). \n",
    "\n",
    "-------"
   ]
  },
  {
   "cell_type": "markdown",
   "metadata": {
    "id": "YHdNbDx8NspO"
   },
   "source": [
    "**Method 4** Use a normal text editor and run the program from the command line:\n",
    "\n",
    "> `python myprog.py`\n",
    "\n",
    "This is the classic approach, and by far the most flexible. It can be challenging to prototype things, but you can of course use a combination of classic code and notebooks for your code development. We won't probably use this at all in this course. \n",
    "\n",
    "-------"
   ]
  },
  {
   "cell_type": "markdown",
   "metadata": {
    "id": "kPNX7solNspP"
   },
   "source": [
    "# Jupyter and Markdown resources"
   ]
  },
  {
   "cell_type": "markdown",
   "metadata": {
    "id": "QoxpnTTZNspQ"
   },
   "source": [
    "Useful resources:\n",
    "\n",
    "> [Jupyter](http://jupyter.org)\n",
    "\n",
    "> [learn Markdown in 10 minutes](http://www.markdowntutorial.com)\n",
    "\n",
    "> [Markdown syntax](https://www.markdownguide.org/basic-syntax/)"
   ]
  },
  {
   "cell_type": "markdown",
   "metadata": {
    "id": "X9ww8z3fNspQ"
   },
   "source": [
    "# Optional exercise (5-10 mins)\n",
    "\n",
    "* create a new notebook that will be devoted to explaining the prime nubmer code cell just above 'Different ways of using Python'\n",
    "* give it a title (edit the name at the top)\n",
    "* save it\n",
    "* add a cell in Markdown with a heading (ie precede it with a #) and a description of what the notebook is all about\n",
    "* add a code cell and paste in the prime number code using the `Insert` option\n",
    "* add a markdown cell below the code and explain what it does\n",
    "* explore a few shortcuts:\n",
    "    * add a cell above the current one using `esc-a`\n",
    "    * ... below using `esc-b`\n",
    "    * convert cell to Markdown using `esc-m`\n",
    "    * convert cell to code using `esc-y`\n",
    "* add a Python cell and type `import this`\n",
    "* keep your notebook open: you're going to use it a lot in the next session\n",
    "\n"
   ]
  },
  {
   "cell_type": "markdown",
   "metadata": {
    "id": "OwnV2jk5NspR"
   },
   "source": [
    "Final note: a Jupyter Notebook is a text file (with the extension .ipynb which stands for interactive python notebook) which can be opened and inspected in a normal text editor, or indeed from the command line e.g.\n",
    "\n",
    "> `cat python_jupyter_overview.ipynb`\n",
    "\n",
    "BTW `cat` is the Unix command to con**CAT**enate files; with just a single file it prints it to the terminal window. See [definition of Unix cat on Wikipedia](https://en.wikipedia.org/wiki/Cat_%28Unix%29)"
   ]
  },
  {
   "cell_type": "code",
   "execution_count": 7,
   "metadata": {
    "colab": {
     "base_uri": "https://localhost:8080/"
    },
    "id": "7yLBbnaoNspR",
    "outputId": "bda477a7-c389-455f-a8bd-924453b7b725"
   },
   "outputs": [
    {
     "name": "stdout",
     "output_type": "stream",
     "text": [
      "{\n",
      " \"cells\": [\n",
      "  {\n",
      "   \"cell_type\": \"markdown\",\n",
      "   \"metadata\": {\n",
      "    \"id\": \"4rvUdrpydfUu\"\n",
      "   },\n",
      "   \"source\": [\n",
      "    \"# Models of the Mind, 2023\\n\",\n",
      "    \"\\n\",\n",
      "    \"### INTRODUCTION TO JUPYTER NOTEBOOKS AND PYTHON\\n\",\n",
      "    \"\\n\",\n",
      "    \"*Inspired by a similar notebook used at BCBL for incoming MSc students developed by Martin Cooke*\\n\",\n",
      "    \"\\n\",\n",
      "    \"-------\"\n",
      "   ]\n",
      "  },\n",
      "  {\n",
      "   \"cell_type\": \"markdown\",\n",
      "   \"metadata\": {\n",
      "    \"id\": \"uCkb-cqu5Iah\"\n",
      "   },\n",
      "   \"source\": [\n",
      "    \"This webpage is a *Jupyter* notebook. We can have sections with text, written in *Markdown*, a simple markup language that allows rapid conversion from text to a rendered form (e.g., html). We can also have segments with code that you can run and modify.\\n\",\n",
      "    \"\\n\",\n",
      "    \"### How to run notebooks\\n\",\n",
      "    \"\\n\",\n",
      "    \"There are various platforms you can use to run and edit Jupyter notebooks. You can run them locally on your own computer, by putting the `.ipynb` notebook file(s) in a directory, installing `jupyter lab` on your computer, and then calling `jupyter lab` from the directory where the `.ipynb` files are. Alternatively, you can put the `.ipynb` files on google drive. Then if you double-click them (or open them from the menu), they will open in **google colaboratory** (colab). However, most of the notebooks for this course will not run in colab because they depend on graphics packages not yet available in colab. \\n\",\n",
      "    \"\\n\",\n",
      "    \"### What can you do with a notebook?\\n\",\n",
      "    \"\\n\",\n",
      "    \"A note book consists of a series of **cells**. A cell is a place where you can enter either **code** or **markdown** text. Code can be executed, while markdown is rendered. In Jupyter, there is a 'play' icon at the top of the window that you use to execute either kind of cell.\\n\",\n",
      "    \"\\n\",\n",
      "    \"Jupyter provides 'kernels' There are over 100 programming language kernels supported in Jupyter lab. We will focus on Python, and may sometimes use the statistical programming language `R`. Normally, you select one kernel for a notebook (e.g., *either* Python or R). If you want to use both within a notebook, there are ways to do it, but we will skip this for now.\\n\",\n",
      "    \"\\n\",\n",
      "    \"We will also occasionally use Jupyter 'directives' within notebooks to do special tasks (such as installing or loading packages, or loading data from an external source). While your Python and R code should run if you put it to a standard script outside the notebook, Jupyter directives will not.\\n\",\n",
      "    \"\\n\",\n",
      "    \"If you are looking at notebooks on the course `Binder` link, you can run things, and you can save things -- but only **temporarily**. If you want to save your work after your session, you have to download it. You can upload it again when you re-open the binder link. However you are working, if you are changing things, save frequently within a session so you do not lose anything if you get disconnected, and save anything you have changed and want to keep **to your local computer** before you leave the session. Otherwise, that work will be irrevocably lost. \\n\",\n",
      "    \"\\n\",\n",
      "    \"*Let's try some examples.*\"\n",
      "   ]\n",
      "  },\n",
      "  {\n",
      "   \"cell_type\": \"markdown\",\n",
      "   \"metadata\": {\n",
      "    \"id\": \"1KD38znLNsoq\"\n",
      "   },\n",
      "   \"source\": [\n",
      "    \"# Exploring Python\\n\",\n",
      "    \"\\n\",\n",
      "    \"Remember, you have access to DataCamp online tutorials through this course. See the course website for details.\"\n",
      "   ]\n",
      "  },\n",
      "  {\n",
      "   \"cell_type\": \"markdown\",\n",
      "   \"metadata\": {\n",
      "    \"id\": \"tWONov9XNso0\"\n",
      "   },\n",
      "   \"source\": [\n",
      "    \"## A quick tour of Python\"\n",
      "   ]\n",
      "  },\n",
      "  {\n",
      "   \"cell_type\": \"markdown\",\n",
      "   \"metadata\": {\n",
      "    \"id\": \"o74Wmi0FNso1\"\n",
      "   },\n",
      "   \"source\": [\n",
      "    \"Python is an _interpreted_ language. This is in contrast to a compiled language (such as C). When you use a compiled language, you first compile a script (which converts the code to fast machine code), which you then run as an executable file. If there are problems, you have to edit the file and recompile.\\n\",\n",
      "    \"\\n\",\n",
      "    \"In an interpreted language (like Python or R), machine code conversion happens on the fly, allowing you to interact with the interpreter and change things within a session. This means you can use it in an exploratory way to get immediate results. Let's look at some examples.\"\n",
      "   ]\n",
      "  },\n",
      "  {\n",
      "   \"cell_type\": \"code\",\n",
      "   \"execution_count\": 3,\n",
      "   \"metadata\": {\n",
      "    \"colab\": {\n",
      "     \"base_uri\": \"https://localhost:8080/\"\n",
      "    },\n",
      "    \"id\": \"Omg63U2QNso2\",\n",
      "    \"outputId\": \"50df0cb9-a79a-4895-bbe1-1a47cf7d760f\"\n",
      "   },\n",
      "   \"outputs\": [\n",
      "    {\n",
      "     \"data\": {\n",
      "      \"text/plain\": [\n",
      "       \"4\"\n",
      "      ]\n",
      "     },\n",
      "     \"execution_count\": 3,\n",
      "     \"metadata\": {},\n",
      "     \"output_type\": \"execute_result\"\n",
      "    }\n",
      "   ],\n",
      "   \"source\": [\n",
      "    \"# On a single line, anything to the right of a '#' is a comment, and ignored by\\n\",\n",
      "    \"# the interpreter.\\n\",\n",
      "    \"\\n\",\n",
      "    \"# You can use it like a calculator -- press the play icon to execute\\n\",\n",
      "    \"2+2\"\n",
      "   ]\n",
      "  },\n",
      "  {\n",
      "   \"cell_type\": \"markdown\",\n",
      "   \"metadata\": {\n",
      "    \"id\": \"gb6YVNtgUEer\"\n",
      "   },\n",
      "   \"source\": [\n",
      "    \"We can set a variable value and print it:\"\n",
      "   ]\n",
      "  },\n",
      "  {\n",
      "   \"cell_type\": \"code\",\n",
      "   \"execution_count\": 8,\n",
      "   \"metadata\": {\n",
      "    \"colab\": {\n",
      "     \"base_uri\": \"https://localhost:8080/\"\n",
      "    },\n",
      "    \"id\": \"0caTBX7UUCgb\",\n",
      "    \"outputId\": \"1a969d33-1783-438e-917a-628faba1d634\"\n",
      "   },\n",
      "   \"outputs\": [\n",
      "    {\n",
      "     \"name\": \"stdout\",\n",
      "     \"output_type\": \"stream\",\n",
      "     \"text\": [\n",
      "      \"4\\n\",\n",
      "      \"4\\n\",\n",
      "      \"Jupyter: The value of a is 4\\n\"\n",
      "     ]\n",
      "    }\n",
      "   ],\n",
      "   \"source\": [\n",
      "    \"a = 2 + 2 # set a to 4 -- note that this is a comment!\\n\",\n",
      "    \"print(a)\\n\",\n",
      "    \"print(f'{a}') # slightly complex way to print\\n\",\n",
      "    \"print(f'The value of a is {a}') # but it allows you to mix with text\\n\"\n",
      "   ]\n",
      "  },\n",
      "  {\n",
      "   \"cell_type\": \"markdown\",\n",
      "   \"metadata\": {\n",
      "    \"id\": \"TbLCb0hiNso8\"\n",
      "   },\n",
      "   \"source\": [\n",
      "    \"Python infers the variable type by the precision you use. Also, we can see that the kernel knows the value of `a` that we just set above.\"\n",
      "   ]\n",
      "  },\n",
      "  {\n",
      "   \"cell_type\": \"code\",\n",
      "   \"execution_count\": 23,\n",
      "   \"metadata\": {\n",
      "    \"colab\": {\n",
      "     \"base_uri\": \"https://localhost:8080/\"\n",
      "    },\n",
      "    \"id\": \"COuSMlhvNso_\",\n",
      "    \"outputId\": \"43e7fb8e-f188-48b7-c3ce-5087f5ca1827\"\n",
      "   },\n",
      "   \"outputs\": [\n",
      "    {\n",
      "     \"name\": \"stdout\",\n",
      "     \"output_type\": \"stream\",\n",
      "     \"text\": [\n",
      "      \"a=4, x=3.0, a * x = 12.0\\n\"\n",
      "     ]\n",
      "    }\n",
      "   ],\n",
      "   \"source\": [\n",
      "    \"x = 2.0 + 1 # one float makes x a float\\n\",\n",
      "    \"print(f'a={a}, x={x}, a * x = {a*x}')\"\n",
      "   ]\n",
      "  },\n",
      "  {\n",
      "   \"cell_type\": \"code\",\n",
      "   \"execution_count\": 1,\n",
      "   \"metadata\": {\n",
      "    \"colab\": {\n",
      "     \"base_uri\": \"https://localhost:8080/\"\n",
      "    },\n",
      "    \"id\": \"QIsnIsmWNspA\",\n",
      "    \"outputId\": \"828e921e-b9cd-454c-8ee4-402cda8ddb0a\"\n",
      "   },\n",
      "   \"outputs\": [\n",
      "    {\n",
      "     \"data\": {\n",
      "      \"text/plain\": [\n",
      "       \"True\"\n",
      "      ]\n",
      "     },\n",
      "     \"execution_count\": 1,\n",
      "     \"metadata\": {},\n",
      "     \"output_type\": \"execute_result\"\n",
      "    }\n",
      "   ],\n",
      "   \"source\": [\n",
      "    \"# it supports string operations in a natural way\\n\",\n",
      "    \"'good' in 'every good boy does fine'\"\n",
      "   ]\n",
      "  },\n",
      "  {\n",
      "   \"cell_type\": \"code\",\n",
      "   \"execution_count\": 3,\n",
      "   \"metadata\": {\n",
      "    \"colab\": {\n",
      "     \"base_uri\": \"https://localhost:8080/\"\n",
      "    },\n",
      "    \"id\": \"5pPmzYr0NspB\",\n",
      "    \"outputId\": \"1259ede9-7835-4b94-d33b-5dfb8e81f9f4\"\n",
      "   },\n",
      "   \"outputs\": [\n",
      "    {\n",
      "     \"name\": \"stdout\",\n",
      "     \"output_type\": \"stream\",\n",
      "     \"text\": [\n",
      "      \"cdaniels@fauxfiddle.com\\n\"\n",
      "     ]\n",
      "    }\n",
      "   ],\n",
      "   \"source\": [\n",
      "    \"# You can create useful structures to store information, like this 'dictionary'\\n\",\n",
      "    \"email = {'jim': 'j.magnuson@faux.org', 'charlie': 'cdaniels@fauxfiddle.com'}\\n\",\n",
      "    \"print(email['charlie'])\"\n",
      "   ]\n",
      "  },\n",
      "  {\n",
      "   \"cell_type\": \"markdown\",\n",
      "   \"metadata\": {\n",
      "    \"id\": \"4AWR_GY5WmJn\"\n",
      "   },\n",
      "   \"source\": [\n",
      "    \"Plus we can print the whole dictionary:\"\n",
      "   ]\n",
      "  },\n",
      "  {\n",
      "   \"cell_type\": \"code\",\n",
      "   \"execution_count\": 16,\n",
      "   \"metadata\": {\n",
      "    \"colab\": {\n",
      "     \"base_uri\": \"https://localhost:8080/\"\n",
      "    },\n",
      "    \"id\": \"pfkA4p_3WpSr\",\n",
      "    \"outputId\": \"6b4c620b-cb6c-4381-aaad-ead373d80612\"\n",
      "   },\n",
      "   \"outputs\": [\n",
      "    {\n",
      "     \"name\": \"stdout\",\n",
      "     \"output_type\": \"stream\",\n",
      "     \"text\": [\n",
      "      \"{'jim': 'j.magnuson@xyz.org', 'jasper': 'jasper@pets.com'}\\n\"\n",
      "     ]\n",
      "    }\n",
      "   ],\n",
      "   \"source\": [\n",
      "    \"print(email)\"\n",
      "   ]\n",
      "  },\n",
      "  {\n",
      "   \"cell_type\": \"code\",\n",
      "   \"execution_count\": 1,\n",
      "   \"metadata\": {\n",
      "    \"colab\": {\n",
      "     \"base_uri\": \"https://localhost:8080/\"\n",
      "    },\n",
      "    \"id\": \"VYs80cwPNspC\",\n",
      "    \"outputId\": \"e0d193df-80b6-46f5-9773-08a0f18524c5\"\n",
      "   },\n",
      "   \"outputs\": [\n",
      "    {\n",
      "     \"name\": \"stdout\",\n",
      "     \"output_type\": \"stream\",\n",
      "     \"text\": [\n",
      "      \"[1, 2, 3, 5, 7, 11, 13, 17, 19, 23, 29, 31, 37, 41, 43, 47]\\n\"\n",
      "     ]\n",
      "    }\n",
      "   ],\n",
      "   \"source\": [\n",
      "    \"# we can also write more complex scripts without much code\\n\",\n",
      "    \"# e.g. prime numbers below 50\\n\",\n",
      "    \"print([x for x in range(1, 50)\\n\",\n",
      "    \"     if not any([x % d == 0 for d in range(2, int(x**.5)+1)])])\\n\",\n",
      "    \"\\n\",\n",
      "    \"# See if you can figure out how this does this -- see exercise at end...\\n\",\n",
      "    \"# Note that you could change the (1, 50) above to a different range; \\n\",\n",
      "    \"# maybe try changing it to (50, 100)\"\n",
      "   ]\n",
      "  },\n",
      "  {\n",
      "   \"cell_type\": \"markdown\",\n",
      "   \"metadata\": {\n",
      "    \"id\": \"_BQeRVAcNspD\"\n",
      "   },\n",
      "   \"source\": [\n",
      "    \"But Python is a general-purpose programming language and can be used for virtually anything with the support of code written by other people. Here are some examples.\"\n",
      "   ]\n",
      "  },\n",
      "  {\n",
      "   \"cell_type\": \"markdown\",\n",
      "   \"metadata\": {\n",
      "    \"id\": \"mb_JLEuiNspL\"\n",
      "   },\n",
      "   \"source\": [\n",
      "    \"## Different ways to use Python\"\n",
      "   ]\n",
      "  },\n",
      "  {\n",
      "   \"cell_type\": \"markdown\",\n",
      "   \"metadata\": {\n",
      "    \"id\": \"wmIJR5ykNspL\"\n",
      "   },\n",
      "   \"source\": [\n",
      "    \"**Method 1** Via a simple python interpreter launched in a terminal/shell window by typing\\n\",\n",
      "    \"\\n\",\n",
      "    \"> `python`\\n\",\n",
      "    \"\\n\",\n",
      "    \"Pros\\n\",\n",
      "    \"    \\n\",\n",
      "    \"- good for quick explorations of coding constructs\\n\",\n",
      "    \"    \\n\",\n",
      "    \"Cons\\n\",\n",
      "    \"    \\n\",\n",
      "    \"- not suitable for developing code nor really for interactions using graphics\\n\",\n",
      "    \"- bare bones Python only\\n\",\n",
      "    \"\\n\",\n",
      "    \"---------\"\n",
      "   ]\n",
      "  },\n",
      "  {\n",
      "   \"cell_type\": \"markdown\",\n",
      "   \"metadata\": {\n",
      "    \"id\": \"AyyUdtF_NspM\"\n",
      "   },\n",
      "   \"source\": [\n",
      "    \"**Method 2** Via an interactive interpreter\\n\",\n",
      "    \"\\n\",\n",
      "    \"> `ipython`\\n\",\n",
      "    \"\\n\",\n",
      "    \"Pros\\n\",\n",
      "    \"\\n\",\n",
      "    \"- can interact with operating system e.g. ls, cd\\n\",\n",
      "    \"- interactive help\\n\",\n",
      "    \"- command completion\\n\",\n",
      "    \"- ... and more\\n\",\n",
      "    \"    \\n\",\n",
      "    \"Cons\\n\",\n",
      "    \"\\n\",\n",
      "    \"- not suitable for code development\\n\",\n",
      "    \"\\n\",\n",
      "    \"-------\"\n",
      "   ]\n",
      "  },\n",
      "  {\n",
      "   \"cell_type\": \"markdown\",\n",
      "   \"metadata\": {\n",
      "    \"id\": \"u5TR3IuANspN\"\n",
      "   },\n",
      "   \"source\": [\n",
      "    \"**Method 3** Via a Jupyter notebook\\n\",\n",
      "    \"\\n\",\n",
      "    \"> `jupyter notebook`\\n\",\n",
      "    \"\\n\",\n",
      "    \"or\\n\",\n",
      "    \"\\n\",\n",
      "    \"> `jupyter lab`\\n\",\n",
      "    \"\\n\",\n",
      "    \"Pros\\n\",\n",
      "    \"- similar to (2) but with graphics and workbook-style documentation\\n\",\n",
      "    \"- powerful enough for many coding purposes\\n\",\n",
      "    \"- books written using notebooks\\n\",\n",
      "    \"- great for distributing ideas to colleagues and for teaching\\n\",\n",
      "    \"- excellent for prototyping\\n\",\n",
      "    \"- supports R and dozens of other languages\\n\",\n",
      "    \"    \\n\",\n",
      "    \"Cons\\n\",\n",
      "    \"- Not really suitable for code that needs to be run regularly\\n\",\n",
      "    \"- Not suitable for developing complex, multi-file applications\\n\",\n",
      "    \"- Jupyter can be a little flaky at times (if things seem to be flaky, try save everything, close everything, and start again).\\n\",\n",
      "    \"\\n\",\n",
      "    \"**This is the method I use for  my code prototyping and much of analysis and graphics production for my papers. I am using notebooks for all the simulations we will do in this course. **\\n\",\n",
      "    \"\\n\",\n",
      "    \"-------\"\n",
      "   ]\n",
      "  },\n",
      "  {\n",
      "   \"cell_type\": \"markdown\",\n",
      "   \"metadata\": {\n",
      "    \"id\": \"YHdNbDx8NspO\"\n",
      "   },\n",
      "   \"source\": [\n",
      "    \"**Method 4** Use a normal text editor and run the program from the command line\\n\",\n",
      "    \"\\n\",\n",
      "    \"> `python myprog.py`\\n\",\n",
      "    \"\\n\",\n",
      "    \"Pros\\n\",\n",
      "    \"- totally flexible\\n\",\n",
      "    \"- easily integrated with version control e.g. git (you can do this with `.ipynb` files, too, but it's harder to actually understand code differences)\\n\",\n",
      "    \"- best way for many complex programs involving many files\\n\",\n",
      "    \"    \\n\",\n",
      "    \"Cons\\n\",\n",
      "    \"- no interactivity so can be inefficient for code prototyping\\n\",\n",
      "    \"\\n\",\n",
      "    \"-------\"\n",
      "   ]\n",
      "  },\n",
      "  {\n",
      "   \"cell_type\": \"markdown\",\n",
      "   \"metadata\": {\n",
      "    \"id\": \"sDFceo-KNspP\"\n",
      "   },\n",
      "   \"source\": [\n",
      "    \"**Method 5** Via an interactive development environment (IDE)\\n\",\n",
      "    \"\\n\",\n",
      "    \"Pros\\n\",\n",
      "    \"- feature-rich\\n\",\n",
      "    \"\\n\",\n",
      "    \"\\n\",\n",
      "    \"Cons\\n\",\n",
      "    \"- simplicity is illusory for some (such as me!)\\n\",\n",
      "    \"- can get in the way of coding\\n\"\n",
      "   ]\n",
      "  },\n",
      "  {\n",
      "   \"cell_type\": \"markdown\",\n",
      "   \"metadata\": {\n",
      "    \"id\": \"kPNX7solNspP\"\n",
      "   },\n",
      "   \"source\": [\n",
      "    \"# More on Jupyter and Markdown\"\n",
      "   ]\n",
      "  },\n",
      "  {\n",
      "   \"cell_type\": \"markdown\",\n",
      "   \"metadata\": {\n",
      "    \"id\": \"4MG9Pw7-NspP\"\n",
      "   },\n",
      "   \"source\": [\n",
      "    \"You're reading a *Jupyter* notebook right now. And this text is being written in *Markdown*.\\n\",\n",
      "    \"\\n\",\n",
      "    \"A note book consists of a series of **cells**\\n\",\n",
      "    \"\\n\",\n",
      "    \"Each cell is either **code** or **markdown** text. For our notebooks the code will always be either Python or Jupyter directives (we'll meet some of these as we go along). However, it is possible to set things up to include R code too.\\n\",\n",
      "    \"\\n\",\n",
      "    \"You choose the type of cell using the dropdown menu at the top of the page. Alternatively (and easier in the long run), you can use `esc-m` to change the cell type to markdown, and `esc-y` to change it to code.\\n\",\n",
      "    \"\\n\",\n",
      "    \"\\n\",\n",
      "    \"You can insert new cells above and below the current cell using the menu above, or (quicker), use `esc-a` and `esc-b` to insert above or below respectively.\\n\",\n",
      "    \"\\n\",\n",
      "    \"**Code** in a cell is executed on pressing `shift` and `return` simultaneously\\n\",\n",
      "    \"when your cursor is in that cell.\\n\",\n",
      "    \"\\n\",\n",
      "    \"**Markdown** is a simple way of creating formatted text. Let's see how this works with the current workbook you're reading right now.\\n\",\n",
      "    \"\\n\",\n",
      "    \"Finally, don't forget to save your notebook as you go along.\"\n",
      "   ]\n",
      "  },\n",
      "  {\n",
      "   \"cell_type\": \"markdown\",\n",
      "   \"metadata\": {\n",
      "    \"id\": \"QoxpnTTZNspQ\"\n",
      "   },\n",
      "   \"source\": [\n",
      "    \"Useful sources:\\n\",\n",
      "    \"\\n\",\n",
      "    \"> [Jupyter](http://jupyter.org)\\n\",\n",
      "    \"\\n\",\n",
      "    \"> [learn Markdown in 10 minutes](http://www.markdowntutorial.com)\\n\",\n",
      "    \"\\n\",\n",
      "    \"> [Markdown syntax](https://www.markdownguide.org/basic-syntax/)\"\n",
      "   ]\n",
      "  },\n",
      "  {\n",
      "   \"cell_type\": \"markdown\",\n",
      "   \"metadata\": {\n",
      "    \"id\": \"X9ww8z3fNspQ\"\n",
      "   },\n",
      "   \"source\": [\n",
      "    \"# Optional exercise (5-10 mins)\\n\",\n",
      "    \"\\n\",\n",
      "    \"* create a new notebook that will be devoted to explaining the prime nubmer code cell just above 'Different ways of using Python'\\n\",\n",
      "    \"* give it a title (edit the name at the top)\\n\",\n",
      "    \"* save it\\n\",\n",
      "    \"* add a cell in Markdown with a heading (ie precede it with a #) and a description of what the notebook is all about\\n\",\n",
      "    \"* add a code cell and paste in the prime number code using the `Insert` option\\n\",\n",
      "    \"* add a markdown cell below the code and explain what it does\\n\",\n",
      "    \"* explore a few shortcuts:\\n\",\n",
      "    \"    * add a cell above the current one using `esc-a`\\n\",\n",
      "    \"    * ... below using `esc-b`\\n\",\n",
      "    \"    * convert cell to Markdown using `esc-m`\\n\",\n",
      "    \"    * convert cell to code using `esc-y`\\n\",\n",
      "    \"* add a Python cell and type `import this`\\n\",\n",
      "    \"* keep your notebook open: you're going to use it a lot in the next session\\n\",\n",
      "    \"\\n\"\n",
      "   ]\n",
      "  },\n",
      "  {\n",
      "   \"cell_type\": \"markdown\",\n",
      "   \"metadata\": {\n",
      "    \"id\": \"OwnV2jk5NspR\"\n",
      "   },\n",
      "   \"source\": [\n",
      "    \"Final note: a Jupyter Notebook is a text file (with the extension .ipynb which stands for interactive python notebook) which can be opened and inspected in a normal text editor, or indeed from the command line e.g.\\n\",\n",
      "    \"\\n\",\n",
      "    \"> `cat python_jupyter_overview.ipynb`\\n\",\n",
      "    \"\\n\",\n",
      "    \"BTW `cat` is the Unix command to con**CAT**enate files; with just a single file it prints it to the terminal window. See [definition of Unix cat on Wikipedia](https://en.wikipedia.org/wiki/Cat_%28Unix%29)\"\n",
      "   ]\n",
      "  },\n",
      "  {\n",
      "   \"cell_type\": \"code\",\n",
      "   \"execution_count\": 24,\n",
      "   \"metadata\": {\n",
      "    \"colab\": {\n",
      "     \"base_uri\": \"https://localhost:8080/\"\n",
      "    },\n",
      "    \"id\": \"7yLBbnaoNspR\",\n",
      "    \"outputId\": \"bda477a7-c389-455f-a8bd-924453b7b725\"\n",
      "   },\n",
      "   \"outputs\": [\n",
      "    {\n",
      "     \"name\": \"stdout\",\n",
      "     \"output_type\": \"stream\",\n",
      "     \"text\": [\n",
      "      \"cat: python_jupyter_overview.ipynb: No such file or directory\\n\"\n",
      "     ]\n",
      "    }\n",
      "   ],\n",
      "   \"source\": [\n",
      "    \"# since we can use some Unix commands in code windows, let's look at the current notebook here\\n\",\n",
      "    \"# use ! to tell Jupyter to run it as an operating system (OS) command\\n\",\n",
      "    \"\\n\",\n",
      "    \"# N.B.: This will only work if the ipynb file is in the current directory; don't worry if you get an error\\n\",\n",
      "    \"!cat python_jupyter_overview.ipynb\"\n",
      "   ]\n",
      "  },\n",
      "  {\n",
      "   \"cell_type\": \"code\",\n",
      "   \"execution_count\": null,\n",
      "   \"metadata\": {\n",
      "    \"id\": \"zzAvimbzNspR\"\n",
      "   },\n",
      "   \"outputs\": [],\n",
      "   \"source\": []\n",
      "  }\n",
      " ],\n",
      " \"metadata\": {\n",
      "  \"colab\": {\n",
      "   \"provenance\": []\n",
      "  },\n",
      "  \"kernelspec\": {\n",
      "   \"display_name\": \"Python 3 (ipykernel)\",\n",
      "   \"language\": \"python\",\n",
      "   \"name\": \"python3\"\n",
      "  },\n",
      "  \"language_info\": {\n",
      "   \"codemirror_mode\": {\n",
      "    \"name\": \"ipython\",\n",
      "    \"version\": 3\n",
      "   },\n",
      "   \"file_extension\": \".py\",\n",
      "   \"mimetype\": \"text/x-python\",\n",
      "   \"name\": \"python\",\n",
      "   \"nbconvert_exporter\": \"python\",\n",
      "   \"pygments_lexer\": \"ipython3\",\n",
      "   \"version\": \"3.10.9\"\n",
      "  }\n",
      " },\n",
      " \"nbformat\": 4,\n",
      " \"nbformat_minor\": 4\n",
      "}\n"
     ]
    }
   ],
   "source": [
    "# since we can use some Unix commands in code windows, let's look at the current notebook here\n",
    "# use ! to tell Jupyter to run it as an operating system (OS) command\n",
    "\n",
    "# N.B.: This will only work if the ipynb file is in the current directory; don't worry if you get an error\n",
    "!cat python_jupyter_overview.ipynb"
   ]
  },
  {
   "cell_type": "code",
   "execution_count": null,
   "metadata": {
    "id": "zzAvimbzNspR"
   },
   "outputs": [],
   "source": []
  }
 ],
 "metadata": {
  "colab": {
   "provenance": []
  },
  "kernelspec": {
   "display_name": "Python 3 (ipykernel)",
   "language": "python",
   "name": "python3"
  },
  "language_info": {
   "codemirror_mode": {
    "name": "ipython",
    "version": 3
   },
   "file_extension": ".py",
   "mimetype": "text/x-python",
   "name": "python",
   "nbconvert_exporter": "python",
   "pygments_lexer": "ipython3",
   "version": "3.10.9"
  }
 },
 "nbformat": 4,
 "nbformat_minor": 4
}
