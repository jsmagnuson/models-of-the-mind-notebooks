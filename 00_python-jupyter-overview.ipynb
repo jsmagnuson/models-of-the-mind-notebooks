{
 "cells": [
  {
   "cell_type": "markdown",
   "metadata": {
    "id": "4rvUdrpydfUu"
   },
   "source": [
    "# Models of the Mind, 2024\n",
    "\n",
    "### INTRODUCTION TO JUPYTER NOTEBOOKS AND PYTHON\n",
    "\n",
    "*Inspired by a similar notebook used at BCBL for incoming MSc students developed by Martin Cooke*\n",
    "\n",
    "-------"
   ]
  },
  {
   "cell_type": "markdown",
   "metadata": {
    "id": "uCkb-cqu5Iah"
   },
   "source": [
    "This webpage is a *Jupyter* notebook. We can have sections with text, written in *Markdown*, a simple markup language that allows rapid conversion from text to a rendered form (e.g., html). We can also have segments with code that you can run and modify.\n",
    "\n",
    "### How to run notebooks\n",
    "\n",
    "There are various platforms you can use to run and edit Jupyter notebooks. You can run them locally on your own computer, by putting the `.ipynb` notebook file(s) in a directory, installing `jupyter lab` on your computer, and then calling `jupyter lab` from the directory where the `.ipynb` files are. Alternatively, you can put the `.ipynb` files on google drive. Then if you double-click them (or open them from the menu), they will open in **google colaboratory** (colab). However, many of the notebooks for this course will not run in colab because they depend on graphics packages not yet available in colab. \n",
    "\n",
    "### What can you do with a notebook?\n",
    "\n",
    "A note book consists of a series of **cells**. A cell is a place where you can enter either **code** or **markdown** text. Code can be executed, while markdown is rendered. In Jupyter, there is a 'play' icon at the top of the window that you use to execute either kind of cell. It looks like this: ▶\n",
    "\n",
    "Jupyter provides 'kernels' There are over 100 programming language kernels supported in Jupyter lab. We will focus on Python, and may use the statistical programming language `R`. Normally, you select one kernel for a notebook (e.g., *either* Python or R). If you want to use both within a notebook, there are ways to do it, but we will skip this for now.\n",
    "\n",
    "We will also occasionally use Jupyter 'directives' within notebooks to do special tasks (such as installing or loading packages, or loading data from an external source). While your Python and R code should run if you put it to a standard script outside the notebook, Jupyter directives will not.\n",
    "\n",
    "If you are looking at notebooks on a course `Binder` link, you can run things, and you can save things -- but only **temporarily**. If you want to save your work after your session, you have to download it. You can upload it again when you re-open the binder link. However you are working, if you are changing things, save frequently within a session so you do not lose anything if you get disconnected, and save anything you have changed and want to keep **to your local computer** before you leave the session. Otherwise, that work will be irrevocably lost. \n",
    "\n",
    "**Note:** *In 2023, binder stopped working reliably. For now, my advice remains to copy the github repository to your own machine, install jupyter, and work with local copies of the course file. This is still true in August, 2024.*\n",
    "\n",
    "--------\n",
    "\n",
    "## *Let's try some examples.*"
   ]
  },
  {
   "cell_type": "markdown",
   "metadata": {
    "id": "1KD38znLNsoq"
   },
   "source": [
    "# Exploring Python\n",
    "\n",
    "Remember, you have access to DataCamp online tutorials through this course. See the course website for details."
   ]
  },
  {
   "cell_type": "markdown",
   "metadata": {
    "id": "tWONov9XNso0"
   },
   "source": [
    "## A quick tour of Python"
   ]
  },
  {
   "cell_type": "markdown",
   "metadata": {
    "id": "o74Wmi0FNso1"
   },
   "source": [
    "Python is an _interpreted_ language. This is in contrast to a compiled language (such as C). When you use a compiled language, you first compile a script (which converts the code to fast machine code), which you then run as an executable file. If there are problems, you have to edit the file and recompile.\n",
    "\n",
    "In an interpreted language (like Python or R), machine code conversion happens on the fly, allowing you to interact with the interpreter, run a single line of code (or entire blocks at once), and change things within a session. This means you can use it in an exploratory way to get immediate results. Let's look at some examples."
   ]
  },
  {
   "cell_type": "code",
   "execution_count": 15,
   "metadata": {
    "colab": {
     "base_uri": "https://localhost:8080/"
    },
    "id": "Omg63U2QNso2",
    "outputId": "50df0cb9-a79a-4895-bbe1-1a47cf7d760f"
   },
   "outputs": [
    {
     "data": {
      "text/plain": [
       "5"
      ]
     },
     "execution_count": 15,
     "metadata": {},
     "output_type": "execute_result"
    }
   ],
   "source": [
    "# On a single line, anything to the right of a '#' is a comment, and ignored by\n",
    "# the interpreter. This allows you to make notes explaining what your code is \n",
    "# meant to do, etc.\n",
    "\n",
    "# You can use it like a calculator -- press the play icon (▶) to execute\n",
    "2+3 # this is also a comment"
   ]
  },
  {
   "cell_type": "markdown",
   "metadata": {
    "id": "gb6YVNtgUEer"
   },
   "source": [
    "We can set a variable value and print it:"
   ]
  },
  {
   "cell_type": "code",
   "execution_count": 9,
   "metadata": {
    "colab": {
     "base_uri": "https://localhost:8080/"
    },
    "id": "0caTBX7UUCgb",
    "outputId": "1a969d33-1783-438e-917a-628faba1d634"
   },
   "outputs": [
    {
     "name": "stdout",
     "output_type": "stream",
     "text": [
      "4\n",
      "4\n",
      "4.000\n",
      "The value of a is 4\n"
     ]
    }
   ],
   "source": [
    "a = 2 + 2 # set a to 4 -- note that this is a comment! The interpreter ignores everything after '#'\n",
    "print(a)\n",
    "print(f'{a}') # slightly complex way to print\n",
    "print(f'{a:.3f}') # slightly more complex way to print -- can you guess what this does? the last 'f' means floating point\n",
    "print(f'The value of a is {a}') # the leading 'f' allows you to mix with text\n"
   ]
  },
  {
   "cell_type": "markdown",
   "metadata": {
    "id": "TbLCb0hiNso8"
   },
   "source": [
    "Python infers the variable type by the precision you use (or the precision of a value you assign to a variable). So `a=1` implies an integer, while `a=1.1` (or `a=1.0`) implies a floating point number. Also, we can see that the kernel knows the value of `a` that we just set above."
   ]
  },
  {
   "cell_type": "code",
   "execution_count": 10,
   "metadata": {
    "colab": {
     "base_uri": "https://localhost:8080/"
    },
    "id": "COuSMlhvNso_",
    "outputId": "43e7fb8e-f188-48b7-c3ce-5087f5ca1827"
   },
   "outputs": [
    {
     "name": "stdout",
     "output_type": "stream",
     "text": [
      "a=4, x=3.0, a * x = 12.0\n"
     ]
    }
   ],
   "source": [
    "x = 2.0 + 1 # one float makes x a float\n",
    "print(f'a={a}, x={x}, a * x = {a*x}')"
   ]
  },
  {
   "cell_type": "code",
   "execution_count": 11,
   "metadata": {
    "colab": {
     "base_uri": "https://localhost:8080/"
    },
    "id": "QIsnIsmWNspA",
    "outputId": "828e921e-b9cd-454c-8ee4-402cda8ddb0a"
   },
   "outputs": [
    {
     "data": {
      "text/plain": [
       "True"
      ]
     },
     "execution_count": 11,
     "metadata": {},
     "output_type": "execute_result"
    }
   ],
   "source": [
    "# it supports string operations in a natural way; do you understand what this does?\n",
    "'good' in 'every good boy does fine'"
   ]
  },
  {
   "cell_type": "code",
   "execution_count": 12,
   "metadata": {
    "colab": {
     "base_uri": "https://localhost:8080/"
    },
    "id": "5pPmzYr0NspB",
    "outputId": "1259ede9-7835-4b94-d33b-5dfb8e81f9f4"
   },
   "outputs": [
    {
     "name": "stdout",
     "output_type": "stream",
     "text": [
      "cdaniels@fauxfiddle.com\n"
     ]
    }
   ],
   "source": [
    "# You can create useful structures to store information, like this 'dictionary'\n",
    "email = {'jim': 'j.magnuson@faux.org', 'charlie': 'cdaniels@fauxfiddle.com'}\n",
    "print(email['charlie'])"
   ]
  },
  {
   "cell_type": "markdown",
   "metadata": {
    "id": "4AWR_GY5WmJn"
   },
   "source": [
    "Plus we can print the whole dictionary:"
   ]
  },
  {
   "cell_type": "code",
   "execution_count": 13,
   "metadata": {
    "colab": {
     "base_uri": "https://localhost:8080/"
    },
    "id": "pfkA4p_3WpSr",
    "outputId": "6b4c620b-cb6c-4381-aaad-ead373d80612"
   },
   "outputs": [
    {
     "name": "stdout",
     "output_type": "stream",
     "text": [
      "{'jim': 'j.magnuson@faux.org', 'charlie': 'cdaniels@fauxfiddle.com'}\n"
     ]
    }
   ],
   "source": [
    "print(email)"
   ]
  },
  {
   "cell_type": "code",
   "execution_count": 7,
   "metadata": {
    "colab": {
     "base_uri": "https://localhost:8080/"
    },
    "id": "VYs80cwPNspC",
    "outputId": "e0d193df-80b6-46f5-9773-08a0f18524c5"
   },
   "outputs": [
    {
     "name": "stdout",
     "output_type": "stream",
     "text": [
      "[1, 2, 3, 5, 7, 11, 13, 17, 19, 23, 29, 31, 37, 41, 43, 47]\n"
     ]
    }
   ],
   "source": [
    "# we can also write more complex scripts without much code\n",
    "# e.g. prime numbers below 50\n",
    "print([x for x in range(1, 50)\n",
    "     if not any([x % d == 0 for d in range(2, int(x**.5)+1)])])\n",
    "\n",
    "# See if you can figure out how this does this -- see exercise at end...\n",
    "# Note that you could change the (1, 50) above to a different range; \n",
    "# try changing it to (50, 100) and then re-execute this cell. To do this, \n",
    "# just click on this cell and then directly edit the code and then press\n",
    "# the play ▶ icon again while this cell is active (click in it to make it \n",
    "# active)"
   ]
  },
  {
   "cell_type": "markdown",
   "metadata": {
    "id": "_BQeRVAcNspD"
   },
   "source": [
    "But Python is a general-purpose programming language and can be used for virtually anything with the support of code written by other people. Here are some examples."
   ]
  },
  {
   "cell_type": "markdown",
   "metadata": {
    "id": "mb_JLEuiNspL"
   },
   "source": [
    "## Different ways to use Python"
   ]
  },
  {
   "cell_type": "markdown",
   "metadata": {
    "id": "wmIJR5ykNspL"
   },
   "source": [
    "**(1) Minimal** \n",
    "\n",
    "Launch the interpreter at the command line:\n",
    "\n",
    "> `python`\n",
    "\n",
    "Then you can just enter commands and see what happens. This is fine for very rapid checking (e.g., checking whether a simple command works like you expect), but it's not possible to save your code, and there are no graphics. \n",
    "\n",
    "---------"
   ]
  },
  {
   "cell_type": "markdown",
   "metadata": {
    "id": "AyyUdtF_NspM"
   },
   "source": [
    "**(2) Interactive** \n",
    "\n",
    "> `ipython`\n",
    "\n",
    "Like the minimal method, but you can interact with graphics, etc. But still not suitable for development or writing code. \n",
    "\n",
    "-------"
   ]
  },
  {
   "cell_type": "markdown",
   "metadata": {
    "id": "u5TR3IuANspN"
   },
   "source": [
    "**(3) Jupyter notebook**\n",
    "\n",
    "> `jupyter notebook`\n",
    "\n",
    "or\n",
    "\n",
    "> `jupyter lab`\n",
    "\n",
    "This has all the features of (2), but you can also save your work. You can test simple stuff, but then develop pretty substantial code. It can be a very nice way to interact with a package that you can load, etc. People use this for all kinds of things, and can even put together many notebooks to create a book or documentation of various sorts. For this class, this is our primary method. \n",
    "\n",
    "However, it's not great for very long code or code that needs to be run often. For that, we want method (4). \n",
    "\n",
    "-------"
   ]
  },
  {
   "cell_type": "markdown",
   "metadata": {
    "id": "YHdNbDx8NspO"
   },
   "source": [
    "**(4) Use a normal text editor and run the program from the command line**\n",
    "\n",
    "> `python myprog.py`\n",
    "\n",
    "This is the classic approach, and by far the most flexible. It can be challenging to prototype things, but you can of course use a combination of classic code and notebooks for your code development. We won't probably use this at all in this course. \n",
    "\n",
    "-------"
   ]
  },
  {
   "cell_type": "markdown",
   "metadata": {},
   "source": [
    "**(5) Use an IDE (Integrated Development Environment) like Visual Code**\n",
    "\n",
    "We won't cover this, but you may find it useful to explore.\n",
    "\n",
    "-------"
   ]
  },
  {
   "cell_type": "markdown",
   "metadata": {
    "id": "kPNX7solNspP"
   },
   "source": [
    "# Jupyter and Markdown resources"
   ]
  },
  {
   "cell_type": "markdown",
   "metadata": {
    "id": "QoxpnTTZNspQ"
   },
   "source": [
    "Useful resources:\n",
    "\n",
    "- [Jupyter](http://jupyter.org)\n",
    "- [learn Markdown in 10 minutes](http://www.markdowntutorial.com)\n",
    "- [Markdown syntax](https://www.markdownguide.org/basic-syntax/)"
   ]
  },
  {
   "cell_type": "markdown",
   "metadata": {
    "id": "X9ww8z3fNspQ"
   },
   "source": [
    "# Optional exercise (5-10 mins)\n",
    "\n",
    "* create a new notebook that will be devoted to explaining the prime number code cell just above 'Different ways of using Python'\n",
    "   * To do this, click the blue '+' button to the left and select a Python3 kernel\n",
    "* give it a title (edit the name at the top)\n",
    "* save it\n",
    "* add a cell in Markdown with a heading (precede it with a # or ## or ### for different levels of headings) and a description of what the notebook is all about\n",
    "* add a code cell and paste in the prime number code\n",
    "* add a markdown cell below the code and explain what it does\n",
    "* explore a few shortcuts:\n",
    "    * add a cell above the current one using `esc-a`\n",
    "    * ... below using `esc-b`\n",
    "    * convert cell to Markdown using `esc-m`\n",
    "    * convert cell to code using `esc-y`\n",
    "* Explore the prime number code -- try changing things and see what effect the changes have by re-executing the cell"
   ]
  },
  {
   "cell_type": "markdown",
   "metadata": {
    "id": "OwnV2jk5NspR"
   },
   "source": [
    "Final note: a Jupyter Notebook is a text file (with the extension .ipynb which stands for ***i**nteractive **py**thon **n**ote **b**ook*) which can be opened and inspected in a normal text editor, or indeed from the command line, e.g.:\n",
    "\n",
    "> `cat python_jupyter_overview.ipynb`\n",
    "\n",
    "BTW `cat` is the Unix command to con**CAT**enate files; with just a single file it prints it to the terminal window. See [definition of Unix cat on Wikipedia](https://en.wikipedia.org/wiki/Cat_%28Unix%29)"
   ]
  },
  {
   "cell_type": "code",
   "execution_count": 8,
   "metadata": {
    "colab": {
     "base_uri": "https://localhost:8080/"
    },
    "id": "7yLBbnaoNspR",
    "outputId": "bda477a7-c389-455f-a8bd-924453b7b725"
   },
   "outputs": [
    {
     "name": "stdout",
     "output_type": "stream",
     "text": [
      "{\n",
      " \"cells\": [\n",
      "  {\n",
      "   \"cell_type\": \"markdown\",\n",
      "   \"metadata\": {\n",
      "    \"id\": \"4rvUdrpydfUu\"\n",
      "   },\n",
      "   \"source\": [\n",
      "    \"<div class=\\\"alert alert-block alert-info\\\">\\n\",\n",
      "    \"    \\n\",\n"
     ]
    }
   ],
   "source": [
    "# since we can use some Unix commands in code windows, let's look at the current notebook here\n",
    "# use ! to tell Jupyter to run it as an operating system (OS) command\n",
    "\n",
    "# N.B.: This will only work if the ipynb file is in the current directory; don't worry if you get an error\n",
    "#       Also, the *nix command `head` prints the first 10 lines only\n",
    "!head ./00_python-jupyter-overview.ipynb"
   ]
  },
  {
   "cell_type": "markdown",
   "metadata": {},
   "source": [
    "-----\n",
    "## That's it for now! We will discuss additional details in class. "
   ]
  }
 ],
 "metadata": {
  "colab": {
   "provenance": []
  },
  "kernelspec": {
   "display_name": "Python 3 (ipykernel)",
   "language": "python",
   "name": "python3"
  },
  "language_info": {
   "codemirror_mode": {
    "name": "ipython",
    "version": 3
   },
   "file_extension": ".py",
   "mimetype": "text/x-python",
   "name": "python",
   "nbconvert_exporter": "python",
   "pygments_lexer": "ipython3",
   "version": "3.12.2"
  }
 },
 "nbformat": 4,
 "nbformat_minor": 4
}
