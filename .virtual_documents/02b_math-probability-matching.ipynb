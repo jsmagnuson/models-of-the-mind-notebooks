


# First, we import all the things we need

# enable animation in jupyter 
%matplotlib widget

import numpy as np # numeric tools
import plotly.graph_objs as go # special features for graphing 
from ipywidgets import interactive, IntSlider, FloatSlider, HBox, VBox, Label, Button, Output, Layout # tools for interaction
from IPython.display import display # we need this to display within the notebook environment

# Define the simulation procedure, which will also serve as an 
# 'objective function' for finding the optimal value for the 
# switchniness variable. The first line specifies the variables 
# that the function expects. If no default value is specified, then 
# either the variable has to be 'global' (a poor programming practice) 
# or it has to be specified. The list of variables after def simulation(...
# have to be supplied to the function. Look below to see where it is
# 'called'.
def simulation(switchiness, rate_1, rate_2, magnitude_1, magnitude_2, summed_magnitude_1, summed_magnitude_2, timeSteps_1, timeSteps_2, timeSteps):

    # Initialize the prevalences and duck distributions 
    # by filling them with zeros
    prevalence_1 = np.zeros(timeSteps) # an array of timeSteps 0s
    prevalence_2 = np.zeros(timeSteps)
    duckDistribution_1 = np.zeros(timeSteps)
    duckDistribution_2 = np.zeros(timeSteps)

    # Start with the initial prevalences and duck distributions; note that 
    # summed_magnitude_1 and timeSteps_1 are variables we can send to the 
    # function. They serve to set prior probabiities for prevalence. That is, 
    # we use them to set a baseline assumption about how prevalent the ducks 
    # 'assume' food is at each source (a scenario where we would typically 
    # assume 50/50 in the absence of other information). But we can also use 
    # these to look at how quickly the ducks would adjust if the prevalences 
    # changed at some point. For example, we could set the prior to be a ratio
    # of 2:1. If we set the previous time steps to large values, it will take 
    # longer for a new ratio to 'settle', because we will accumulate new info
    # via these variables (see below).
    prevalence_1[0] = summed_magnitude_1 / timeSteps_1 # food per time
    prevalence_2[0] = summed_magnitude_2 / timeSteps_2
    duckDistribution_1[0] = 0.5 # we should calculate this rather than set it
    duckDistribution_2[0] = 0.5

    # Compute the prevalences and duck distributions over time
    for t in range(1, timeSteps):
        # Update the prevalences and time steps if a source disburses food
        #    Note: The '%' (modulus) operator checks whether t is divisible by 
        #    rate_1 (or rate_2) by seeing if there is a remainder if you divide 
        #    (no remainder means divisible by). 
        if t % rate_1 == 0:
            summed_magnitude_1 += magnitude_1
            #prevalence_1[t] = summed_magnitude_1 / timeSteps_1
        else:
            # If no food, we keep our old prevalence; an alternative would be to 
            # just recalculate prevalence whether food is disbursed or not
            prevalence_1[t] = prevalence_1[t-1]
        
        prevalence_1[t] = summed_magnitude_1 / timeSteps_1
            
        if t % rate_2 == 0:
            summed_magnitude_2 += magnitude_2
            #prevalence_2[t] = summed_magnitude_2 / timeSteps_2
        else:
            # If no food, we keep our old prevalence; an alternative would be to 
            # just recalculate prevalence whether food is disbursed or not
            prevalence_2[t] = prevalence_2[t-1]
            
        prevalence_2[t] = summed_magnitude_2 / timeSteps_2

        # increment both time steps
        timeSteps_1 += 1
        timeSteps_2 += 1

        # Compute the unnormalized weights for each source by scaling (nonlinearly) 
        # by switchiness
        weight_1 = np.exp(switchiness * prevalence_1[t])
        weight_2 = np.exp(switchiness * prevalence_2[t])
        #   --> Note - to see the impact of the exponential function, uncomment 
        #       the next two lines and comment out the previous 2 lines
        #weight_1 = (switchiness * prevalence_1[t])
        #weight_2 = (switchiness * prevalence_2[t])

        # Normalize the weights (making them like probabilities) to get the duck distributions
        duckDistribution_1[t] = weight_1 / (weight_1 + weight_2)
        duckDistribution_2[t] = weight_2 / (weight_1 + weight_2)

    # return sends the listed values back to the point where this function was called
    return prevalence_1, prevalence_2, duckDistribution_1, duckDistribution_2

def create_sliders(rate_1, rate_2, magnitude_1, magnitude_2, switchiness, timeSteps, summed_magnitude_1, summed_magnitude_2, timeSteps_1, timeSteps_2):
    """Create sliders for the parameters."""
    
    # define custom layout; make it wide enough so slider labels are visible
    custom_layout = Layout(width='1000px')
    style = {'description_width': 'initial'}  # Set the description width to its content


    sliders = [
        IntSlider(min=1, max=10, step=1, value=rate_1, description='Rate 1:'),
        IntSlider(min=1, max=10, step=1, value=rate_2, description='Rate 2:'),
        IntSlider(min=1, max=20, step=1, value=magnitude_1, description='Magnitude 1:'),
        IntSlider(min=1, max=20, step=1, value=magnitude_2, description='Magnitude 2:'),
        FloatSlider(min=0, max=1, step=0.01, value=switchiness, description='Switchiness:'),
        IntSlider(min=10, max=1000, step=1, value=timeSteps, description='Time Steps:'),
        IntSlider(min=1, max=1000, step=1, value=summed_magnitude_1, description='Base mag 1:'),
        IntSlider(min=1, max=1000, step=1, value=summed_magnitude_2, description='Base mag 2:'),
        IntSlider(min=1, max=1000, step=1, value=timeSteps_1, description='Base time 1:'),
        IntSlider(min=1, max=1000, step=1, value=timeSteps_2, description='Base time 2:')
        # if slider labels get cut off, can use this style=style at the end to make wider. 
        # aesthetically more pleasing to just make the text short enough to fit
        #FloatSlider(min=1, max=1000, step=1, value=timeSteps_2, description='Base time 2:', style=style)
    ]
    return sliders

#  (it had to be defined and executed after you called the plot updating 
# function, so I put the definition for reset_values() and calling reset_button after 
# defining update_plot and before creating the interactive widget).
 
def main():
    """
        The *main* function is what will be executed by default given the last line 
        (take a look)
    """
    
    # Define initial [and default] values for the parameters
    rate_1 = 2
    rate_2 = 4 
    magnitude_1 = 10
    magnitude_2 = 10
    switchiness = 0.5
    timeSteps = 100
    summed_magnitude_1 = 100
    summed_magnitude_2 = 100
    timeSteps_1 = 100
    timeSteps_2 = 100

    slider_defaults = [rate_1, rate_2, magnitude_1, magnitude_2, switchiness, timeSteps, 
                       summed_magnitude_1, summed_magnitude_2, timeSteps_1, timeSteps_2]
    
    # Create the sliders
    sliders = create_sliders(*slider_defaults)
    #sliders = create_sliders(rate_1, rate_2, magnitude_1, magnitude_2, switchiness, timeSteps, summed_magnitude_1, summed_magnitude_2, timeSteps_1, timeSteps_2)

    # Create the "Reset" button and set its on_click event to reset_values function
    reset_button = Button(description="Reset")
    reset_button.on_click(lambda b: reset_values(b, sliders, slider_defaults))


    
    # Initialize the graphs
    layout = go.Layout(autosize=False, width=700, height=500, font=dict(size=16), showlegend=True)

    # GRAPH 1
    graph1 = go.FigureWidget(layout=layout)
    graph1.add_trace(go.Scatter(name="Source 1"))
    graph1.add_trace(go.Scatter(name="Source 2"))
#    graph1.update_layout(title_text="Prevalence", xaxis_title="Time Step", yaxis_title="Prevalence", legend=dict(x=0.8, y=0.9, font=dict(size=14)))
    graph1.update_layout(title_text="Prevalence", xaxis_title="Time Step", yaxis_title="Prevalence", legend=dict(font=dict(size=14, color="black")))

    # GRAPH 2
    graph2 = go.FigureWidget(layout=layout)
    graph2.add_trace(go.Scatter(name="Source 1"))
    graph2.add_trace(go.Scatter(name="Source 2"))
    graph2.update_layout(title_text="Duck Distribution", xaxis_title="Time Step", yaxis_title="Duck Distribution")

    # LABELS WILL DISPLAY UPDATED VALUES
    expected_ratio_label = Label(value="Expected ratio: ")
    actual_ratio_label = Label(value="Actual ratio: ")
    discrepancy_label = Label(value="Discrepancy: ")
    duck_proportion_label = Label(value="Duck proportion at source 1: ")
    advice_label = Label(value="\n --- click the Play control for this cell to reset ---")
    magnitude_1_label = Label(value="Current Mag1: ")
    magnitude_2_label = Label(value="Current Mag2: ")
    prevalence_1_label = Label(value="Current Prev1: ")
    prevalence_2_label = Label(value="Current Prev2: ")
    duckDistribution_1_label = Label(value="Current DuckDist1: ")
    duckDistribution_2_label = Label(value="Current DuckDist2: ")


    # Function to update the plots
    def update_plot(rate_1, rate_2, magnitude_1, magnitude_2, switchiness, timeSteps, summed_magnitude_1, summed_magnitude_2, timeSteps_1, timeSteps_2):
        prevalence_1, prevalence_2, duckDistribution_1, duckDistribution_2 = \
            simulation(switchiness, rate_1, rate_2, magnitude_1, magnitude_2, summed_magnitude_1, summed_magnitude_2, timeSteps_1, timeSteps_2, int(timeSteps))
        x_values = np.arange(int(timeSteps))

        # calculate the theoretically expected ratio
        expected_ratio = (magnitude_1/rate_1) / ((magnitude_1/rate_1) + (magnitude_2/rate_2))
        
        # calcuate the actual ratio...
        actual_ratio = duckDistribution_1[-1]
        
        # and the difference between expected and actual
        discrepancy = abs(actual_ratio - expected_ratio)

        # graph update instrucions
        with graph1.batch_update():
            graph1.data[0].x = x_values
            graph1.data[0].y = prevalence_1
            graph1.data[1].x = x_values
            graph1.data[1].y = prevalence_2
            showlegend=True

        with graph2.batch_update():
            graph2.data[0].x = x_values
            graph2.data[0].y = duckDistribution_1
            graph2.data[1].x = x_values
            graph2.data[1].y = duckDistribution_2

        # print 'labels'    
        expected_ratio_label.value = "Expected ratio: {:.3f}".format(expected_ratio)
        actual_ratio_label.value = "Actual ratio:  {:.3f}".format(actual_ratio)
        discrepancy_label.value = "Discrepancy:  {:.3f}".format(discrepancy)
        duck_proportion_label.value = "Duck proportion at source 1: {:.3f}".format(duckDistribution_1[-1])
        magnitude_1_label.value = f"CurMag1: {magnitude_1}"
        magnitude_2_label.value = f"CurMag2: {magnitude_2}"
        prevalence_1_label.value = f"CurPrev1: {prevalence_1[-1]:.3f}"
        prevalence_2_label.value = f"CurPrev2: {prevalence_2[-1]:.3f}"
        duckDistribution_1_label.value = f"CurDuckDis1: {duckDistribution_1[-1]:.3f}"
        duckDistribution_2_label.value = f"CurDuckDis2: {duckDistribution_2[-1]:.3f}"
        advice_label.value = "\n ### click the Play control for this cell to reset ###"
        
    
    def reset_values(button, sliders, defaults):
        """Reset the interactive widgets to their default values."""
        for slider, default in zip(sliders, defaults):
            slider.value = default
        # Force the update
        update_plot(*[slider.value for slider in sliders])
        # Create the interactive widget
   
 
    # Create the interactive widget
    widget = interactive(update_plot, 
                         rate_1=sliders[0], 
                         rate_2=sliders[1], 
                         magnitude_1=sliders[2], 
                         magnitude_2=sliders[3], 
                         switchiness=sliders[4], 
                         timeSteps=sliders[5], 
                         summed_magnitude_1=sliders[6], 
                         summed_magnitude_2=sliders[7], 
                         timeSteps_1=sliders[8], 
                         timeSteps_2=sliders[9])

    # Display the sliders, labels and plots
    #display(VBox([widget, HBox([expected_ratio_label, actual_ratio_label, discrepancy_label, advice_label]), HBox([graph1, graph2])]))
    display(reset_button)
    display(VBox([widget, 
              HBox([expected_ratio_label, actual_ratio_label, discrepancy_label, advice_label]), 
              HBox([magnitude_1_label, magnitude_2_label, prevalence_1_label, prevalence_2_label, duckDistribution_1_label, duckDistribution_2_label]),
              HBox([graph1, graph2])]))


# Run the main function


main()







