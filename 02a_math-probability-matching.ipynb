{
 "cells": [
  {
   "cell_type": "markdown",
   "id": "eaad2c30-0450-4c6b-8cdd-e5f75035f895",
   "metadata": {
    "tags": []
   },
   "source": [
    "<div class=\"alert alert-block alert-info\">\n",
    "\n",
    "## <font color='red'>LAB REPORT</font>\n",
    "\n",
    "Answer the questions below in Sections 1, 2, and 3. It works best to copy and paste the questions into your report and insert your answers below each prompt. Remember, submit a 'static' file (.txt, .rtf, .doc, .pdf, etc.) and not a dynamic document link (e.g., to google docs). Make sure to include your name, date, and topic at the top of your report ('02a: Math models of probability matching').\n",
    "    \n",
    "</div>"
   ]
  },
  {
   "cell_type": "markdown",
   "id": "0c7ad364-0178-4319-b693-eb18a69c71d3",
   "metadata": {
    "tags": []
   },
   "source": [
    "---\n",
    "# PROBABILITY MATCHING, PART 1\n",
    "---\n",
    "\n",
    "## Section 0: Introduction\n",
    "\n",
    "Our first foray into mathematical modeling will focus on a domain called *probability matching*. Please answer the questions in Sections 1-3. Note that you will learn the most from this exercise by doing Sections 1 and 2 before doing the reading."
   ]
  },
  {
   "cell_type": "markdown",
   "id": "0ce40e84-ef72-413f-856e-582902ae4ad9",
   "metadata": {
    "tags": []
   },
   "source": [
    "---\n",
    "## Section 1: Probability matching in individuals\n",
    "\n",
    "\n",
    "### Scenario 1.1\n",
    "\n",
    "Imagine being in an experiment in a psychology lab. There are two buttons you can push. You are told to push the buttons as much as you want, and occasionally, you will get a reward; the computer display will update showing your new total. Let's say you earn 5 cents for every reward from either button. Sounds a bit weird, right? Well, you start pressing buttons. Unbeknownst to you, the button the left distributes a reward after approximately 5 presses, while the button on the right distributes a reward after approximately 10 presses. \n",
    "\n",
    "#### What would the best behavior be for this scenario? \n",
    "\n",
    "1. First, how can we define 'best' behavior, if we assume you would want to get as much money as you could? \n",
    "2. Which policy would lead to the best behavior as you have defined it? Explain why.\n",
    "   1. Once you discover the button on the left rewards more frequently, just keep pressing that button\n",
    "   2. Just keep pressing the buttons randomly\n",
    "   3. Press the left button about twice as often as the one on the right, since it rewards twice as often\n",
    "\n",
    "### Scenario 1.2\n",
    "\n",
    "Instead of rewarding on different schedules, imagine both buttons give a reward approximately every 10 presses, but the left button gives 10 cents and the one on the right gives 5 cents. \n",
    "\n",
    "#### What would the best behavior be for this scenario? \n",
    "\n",
    "3. First, how can we define 'best' behavior here?\n",
    "4. Which policy would lead to the best behavior as you have defined it? Explain why.\n",
    "   1. Once you discover the button on the left rewards more generously, just keep pressing that button\n",
    "   2. Just keep pressing the buttons randomly\n",
    "   3. Press the left button about twice as often as the one on the right, since it rewards twice as much\n",
    "\n",
    "### Analysis\n",
    "\n",
    "- How can we describe the reward schedules of the two buttons concretely or even mathematically? \n",
    "- We will need to take into account both frequency and size of reward\n",
    "  \n",
    "5. What is the simplest possibility you can come up with? You can try to put this in any form, from a verbal description to a simple formula or a system of equations. Just give it a try. \n",
    "\n"
   ]
  },
  {
   "cell_type": "markdown",
   "id": "944754ec-231c-4f8c-ac70-0b14c1945f7c",
   "metadata": {},
   "source": [
    "---\n",
    "## Section 2: Probability matching in groups\n",
    "\n",
    "### Context\n",
    "\n",
    "There is a pond with many ducks on it. To study foraging behavior, a team of researchers devise an experiment. They take special, veterinarian-approved 'duck chow' and crush it and then form it into morsels of a precise size (4 grams, about the size of a sugar cube). They confirm that the morsels will float for several minutes if they are thrown into water. Then two of them each take a sack with many dozens of morsels and position themselves on either end of the pond. They each have special stopwatch devices that they can set to flash on a schedule. Each time they see a flash, they throw a morsel of food. A video camera is positioned to allow the team to record the positions of the ducks as the experiment proceeds. Let's call the 'north' end of the pond Source 1, where one of the experimenters is positioned, and the south end is Source 2, where the other experimenter is positioned. Rather than talking about Experimenter 1 and 2, we will just say that Source 1 distributes food on a particluar schedule. \n",
    "\n",
    "### Scenario 2.1\n",
    "\n",
    "Source 1 distributes a 4g morsel of food every 10 seconds, and so does Source 2. The team observes that the ducks gradually distribute themselves such that about half are at each source. Once the ducks have distributed themselves and things seem stable, Source 2 slows down, and only distributes food every 20 seconds. Soon after, the ducks redistribute themselves such that approximately 2/3 of the ducks are at Source 1 and 1/3 are at Source 2; that is, they match the probability of food at the two sources. \n",
    "\n",
    "## <font color='red'>Lab report questions</font>\n",
    "\n",
    "`Answer the questions below as questions 2.1-2.2.`\n",
    "\n",
    "1. Is this the best or optimal behavior? Why or why not? \n",
    "2. How can we explain this behavior? \n",
    "   1. Propose an explanation -- that is, start to develop a *theory* that organizes your observations and proposes *causes* -- how parameters of the experimental setup and/or behaviors of the ducks and/or internal processes in the ducks drive the observed outcomes. \n",
    "   2. A good theory makes predictions about what would happen if you changed aspects of the situation. Ideally, you try to make predictions that could *falsify* your explanation; that is, a good approach is to try to prove your theory is wrong. State how you would test your theory -- what hypotheses does it generate?\n",
    "\n",
    "### Scenario 2.2\n",
    "\n",
    "Source 1 distributes a 4g morsel of food every 10 seconds, and so does Source 2. Again, the team observes that the ducks gradually distribute themselves such that about half are at each source. Once the ducks have distributed themselves, the experimenter at Source 1 switches from a sack of 4g morsels to a sack of 8g morsels. The sources continue distributing every 10 seconds, but now Source 1 has 8g morsels, while Source 2 still has 4g morsels. Soon after, the ducks redistribute themselves such that approximately 2/3 of the ducks are at Source 1 and 1/3 are at Source 2; that is, they match the probability of food at the two sources. \n",
    "\n",
    "## <font color='red'>Lab report questions</font>\n",
    "\n",
    "`Answer the questions below as questions 2.3-2.4.`\n",
    "\n",
    "3. Consider your answer to question 2.1 above, and compare to this scenario; is the behavior described best/optimal? Why or why not? \n",
    "4. How can we explain this behavior? Can your explanation from question 2.2 above explain this case, or do you need to expand your explanation/theory? Propose an explanation that generates testable hypotheses and state how you would test your theory."
   ]
  },
  {
   "cell_type": "markdown",
   "id": "4d2795a3-9179-4e4a-9403-629251d9de8e",
   "metadata": {},
   "source": [
    "---\n",
    "## Section 3: Readings and existing theories\n",
    "\n",
    "\n",
    "\n",
    "Read the selection from Gallistel's *Organization of Learning* (1989). Compare the theoretical explanations he reviews and his extension of previous theories to your own proposals above. \n",
    "\n",
    "## <font color='red'>Lab report questions</font>\n",
    "\n",
    "*Answer these questions as questions 3.1-3.5.*\n",
    "\n",
    "1. Briefly describe the theoretical accounts Gallistel reviews. \n",
    "2. Were you surprised by any details in the chapter that you had not considered before reading? \n",
    "3. How have previous researchers described prevalence mathematically? \n",
    "4. Consider in particular the notion of 'switchiness'. Why is this needed? Does it seem plausible to you? \n",
    "\n"
   ]
  },
  {
   "cell_type": "code",
   "execution_count": null,
   "id": "5887b3b0-65c3-49ae-a863-6754f0e789d7",
   "metadata": {},
   "outputs": [],
   "source": []
  }
 ],
 "metadata": {
  "kernelspec": {
   "display_name": "Python 3 (ipykernel)",
   "language": "python",
   "name": "python3"
  },
  "language_info": {
   "codemirror_mode": {
    "name": "ipython",
    "version": 3
   },
   "file_extension": ".py",
   "mimetype": "text/x-python",
   "name": "python",
   "nbconvert_exporter": "python",
   "pygments_lexer": "ipython3",
   "version": "3.12.2"
  }
 },
 "nbformat": 4,
 "nbformat_minor": 5
}
