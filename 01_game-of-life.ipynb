{
 "cells": [
  {
   "cell_type": "markdown",
   "id": "c0171f3c-8bf9-466d-94b8-5ab956acfdf0",
   "metadata": {},
   "source": [
    "## Conway's \"Game of Life\"\n",
    "\n",
    "The **Game of Life (GoL)** is a cellular automaton devised by British mathematician John Conway in 1970. It's a \"zero-player game\" -- its evolution is determined by its initial state, requiring no further input from the user / experimenter.\n",
    "\n",
    "### Definition\n",
    "The GoL consists of an 'infinite' grid of cells (that is, a torus), each of which can be alive or dead. The state of a cell in the next generation is determined by its current state and the number of living neighbors. The rules are simple:\n",
    "1. Any live cell with fewer than two live neighbors dies (underpopulation).\n",
    "2. Any live cell with two or three live neighbors lives on to the next generation.\n",
    "3. Any live cell with more than three live neighbors dies (overpopulation).\n",
    "4. Any dead cell with exactly three live neighbors becomes a live cell (reproduction).\n",
    "\n",
    "### Conway's Motivation\n",
    "Conway developed the GoL to simulate and explore complex systems and patterns that emerge from simple rules. He was interested in creating a system that could model biological and morphological phenomena, yet be governed by straightforward principles.\n",
    "\n",
    "### Impact and Utility\n",
    "The GoL has proven incredibly useful in various fields including mathematics, computer science, physics, and biology. It's a classic example of how simple rules can lead to complex and unpredictable behaviors. Patterns in the Game of Life can simulate logic gates, memory storage, and even perform calculations, making it *Turing complete* (though a general-purpose computer implemented from GoL would be painfully slow). \n",
    "\n",
    "### Conclusion\n",
    "The Game of Life is more than a mathematical curiosity; it's a profound illustration of how complexity can arise from simplicity, reflecting processes observed in nature and the universe. Its enduring appeal and widespread applications underline the depth of its conceptual foundations... "
   ]
  },
  {
   "cell_type": "markdown",
   "id": "6987e6dd-781a-4100-aada-e8b67f12bc52",
   "metadata": {},
   "source": [
    "-------\n",
    "\n",
    "### Why are we using GoL for this course?\n",
    "\n",
    "GoL illustrates some really interesting principles that are relevant for Models of the Mind: e.g., how global complexity can result from simple local interactions. We are not ready for this lesson at the start of the course, though. The reason to explore this simulation is that it gives us a great example we can play with in preparation for cognitive models later on. In particular, I hope you embrace the opportunity to experiment with variables you can set, etc."
   ]
  },
  {
   "cell_type": "markdown",
   "id": "d35b90af-b3a0-4421-9e59-d84f59011b2a",
   "metadata": {},
   "source": [
    "------\n",
    "\n",
    "### The simulations\n",
    "\n",
    "Skim the code that follows. Do not worry if you do not understand it. What's more important for now is the simulation itself, which you'll find after the code. \n",
    "\n",
    "For those who want to understand the code, skim from top to bottom, mainly just taking note of the kinds of functions / methods that are defined. The key line is the very last one:\n",
    "\n",
    "`game_of_life_anim = GameOfLifeAnimation()`\n",
    "\n",
    "This creates a new object, `game_of_life_anim`, which is an instance of the `class` called `GameOfLifeAnimation`. You'll see that it has a special initialization method (`__init__`) that is called when a new class instance is defined. This includes creating the 'widgets' (buttons, etc.) the user can interact with. The next major thing that will happen is when the user clicks the `Start` button, which calls the `GameOfLifeAnimation` method, `start`. You have to work through the series of other methods that are triggered by `start`, as well as those triggered by the other buttons.\n",
    "\n",
    "------"
   ]
  },
  {
   "cell_type": "code",
   "execution_count": 1,
   "id": "242c8b4d-0f80-4072-bb42-7448e75567a8",
   "metadata": {},
   "outputs": [
    {
     "data": {
      "application/vnd.jupyter.widget-view+json": {
       "model_id": "b54ca616b0e74b00bc3776bd185270e1",
       "version_major": 2,
       "version_minor": 0
      },
      "text/plain": [
       "Text(value='100', description='Rows:')"
      ]
     },
     "metadata": {},
     "output_type": "display_data"
    },
    {
     "data": {
      "application/vnd.jupyter.widget-view+json": {
       "model_id": "2fc99a3847d54ee6a80b1363d65b5db1",
       "version_major": 2,
       "version_minor": 0
      },
      "text/plain": [
       "Text(value='100', description='Cols:')"
      ]
     },
     "metadata": {},
     "output_type": "display_data"
    },
    {
     "data": {
      "application/vnd.jupyter.widget-view+json": {
       "model_id": "1c21e330b6ff47d380a5020f84c7f708",
       "version_major": 2,
       "version_minor": 0
      },
      "text/plain": [
       "Text(value='1000', description='Initial Cells:')"
      ]
     },
     "metadata": {},
     "output_type": "display_data"
    },
    {
     "data": {
      "application/vnd.jupyter.widget-view+json": {
       "model_id": "0e7b35f6aec54269896414dbf84ef9a9",
       "version_major": 2,
       "version_minor": 0
      },
      "text/plain": [
       "Text(value='10', description='History:')"
      ]
     },
     "metadata": {},
     "output_type": "display_data"
    },
    {
     "data": {
      "application/vnd.jupyter.widget-view+json": {
       "model_id": "ed3ab2166f2748b0b9037e3c27b3e874",
       "version_major": 2,
       "version_minor": 0
      },
      "text/plain": [
       "Text(value='50', description='Interval (ms):')"
      ]
     },
     "metadata": {},
     "output_type": "display_data"
    },
    {
     "data": {
      "application/vnd.jupyter.widget-view+json": {
       "model_id": "a55c28f92e0e4b73ad037a6a519689ca",
       "version_major": 2,
       "version_minor": 0
      },
      "text/plain": [
       "Text(value='200', description='Timesteps:')"
      ]
     },
     "metadata": {},
     "output_type": "display_data"
    },
    {
     "data": {
      "application/vnd.jupyter.widget-view+json": {
       "model_id": "819b9fdf43954b4aa7d328ceed5660a2",
       "version_major": 2,
       "version_minor": 0
      },
      "text/plain": [
       "Button(description='Start', style=ButtonStyle())"
      ]
     },
     "metadata": {},
     "output_type": "display_data"
    },
    {
     "data": {
      "application/vnd.jupyter.widget-view+json": {
       "model_id": "31193f20c2174ec3b35cdf654b989af7",
       "version_major": 2,
       "version_minor": 0
      },
      "text/plain": [
       "Button(description='Pause', style=ButtonStyle())"
      ]
     },
     "metadata": {},
     "output_type": "display_data"
    },
    {
     "data": {
      "application/vnd.jupyter.widget-view+json": {
       "model_id": "476363f897964fddba1261440e46d31a",
       "version_major": 2,
       "version_minor": 0
      },
      "text/plain": [
       "Button(description='Forward', style=ButtonStyle())"
      ]
     },
     "metadata": {},
     "output_type": "display_data"
    },
    {
     "data": {
      "application/vnd.jupyter.widget-view+json": {
       "model_id": "c2114b0d22664b959e7c63e4d7597e01",
       "version_major": 2,
       "version_minor": 0
      },
      "text/plain": [
       "Button(description='Back', style=ButtonStyle())"
      ]
     },
     "metadata": {},
     "output_type": "display_data"
    },
    {
     "data": {
      "application/vnd.jupyter.widget-view+json": {
       "model_id": "c9f1172b5c0342908aa2a4b9375c2e2a",
       "version_major": 2,
       "version_minor": 0
      },
      "image/png": "[encoded data removed]",
      "text/html": [
       "\n",
       "            <div style=\"display: inline-block;\">\n",
       "                <div class=\"jupyter-widgets widget-label\" style=\"text-align: center;\">\n",
       "                    Figure\n",
       "                </div>\n",
       "                <img src='data:image/png;base64,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' width=600.0/>\n",
       "            </div>\n",
       "        "
      ],
      "text/plain": [
       "Canvas(toolbar=Toolbar(toolitems=[('Home', 'Reset original view', 'home', 'home'), ('Back', 'Back to previous …"
      ]
     },
     "metadata": {},
     "output_type": "display_data"
    }
   ],
   "source": [
    "# Enable interactive plot (this line allows interactive plotting in Jupyter notebooks)\n",
    "%matplotlib ipympl\n",
    "\n",
    "# Importing necessary libraries\n",
    "import numpy as np                  # NumPy for numerical operations, such as handling arrays\n",
    "import matplotlib.pyplot as plt     # pyplot for plotting and visualizing data\n",
    "import matplotlib.animation as animation # Animation module for creating animations\n",
    "import ipywidgets as widgets        # For creating interactive widgets in Jupyter notebooks\n",
    "from IPython.display import display # Function to render widgets in Jupyter notebooks\n",
    "from collections import deque       # For using double-ended queues, necessary for history\n",
    "\n",
    "\n",
    "# Function to initialize the grid with given rows, columns, and initial live cells\n",
    "def initialize_grid(rows, cols, initial_cells):\n",
    "    grid = np.zeros((rows, cols)) # Creating a grid of zeros\n",
    "    \n",
    "    # Choosing random cells to be alive based on user-settable parameter, initial_cells\n",
    "    initial_cells_coords = np.random.choice(rows * cols, initial_cells, replace=False) \n",
    "    \n",
    "    # Marking the chosen cells as alive\n",
    "    grid[np.unravel_index(initial_cells_coords, (rows, cols))] = 1 \n",
    "    return grid\n",
    "\n",
    "def update_grid(grid):\n",
    "    ''' \n",
    "        Note you can use 3 ' marks to start and end an extended comment.\n",
    "    \n",
    "        Function to update the grid based on the rules of Conway's Game of Life\n",
    "\n",
    "        Implements the rules of Conway's Game of Life, a cellular automaton devised by \n",
    "        mathematician John Conway. The game is played on an 'infinite' grid of cells \n",
    "        ('infinite' because interactions occur across edges -- cells on right & left edges are \n",
    "        neighbors and influence each other, and top and bottom edge cells are neighbors; \n",
    "        this can also be described as using 'periodic boundary conditions'; i.e., the wrapping \n",
    "        grid forms a torus). \n",
    "\n",
    "        Each cell is in one of two possible states: alive (1, filled) or dead (0, empty).\n",
    "\n",
    "        Each cell consults the states of its eight neighbors (horizontal, vertical, and \n",
    "        diagonal) and its own state is updated based on the following rules:\n",
    "\n",
    "          1. Underpopulation: Any live cell with fewer than two live neighbors dies, as if by \n",
    "             underpopulation.\n",
    "          2. Continuation: Any live cell with two or three live neighbors lives on to the next \n",
    "             'generation' (time step).\n",
    "          3. Overpopulation: Any live cell with more than three live neighbors dies, as if by \n",
    "             overpopulation.\n",
    "          4. Reproduction: Any dead cell with exactly three live neighbors becomes a live cell, \n",
    "             as if by reproduction.\n",
    "\n",
    "        The function takes the current grid states as input and returns a new grid representing \n",
    "        the next state. \n",
    "    '''\n",
    "\n",
    "    new_grid = grid.copy() # Creating a copy of the current grid\n",
    "    rows, cols = grid.shape # Getting the grid shape (dimensions)\n",
    "    for i in range(rows):\n",
    "        for j in range(cols):\n",
    "            \n",
    "            # Calculating the total number of alive neighbors for the cell grid(i, j);\n",
    "            # we need to check the states of the 8 cells around cell i,j:\n",
    "            #\n",
    "            # 1 [i, (j-1)%cols]: Left neighbor; wraps if at left edge\n",
    "            # 2 [i, (j+1)%cols]: Right neighbor; wraps if at right edge\n",
    "            # 3 [(i-1)%rows, j]: Top neighbor; wraps if at top edge\n",
    "            # 4 [(i+1)%rows, j]: Bottom neighbor; wraps if at bottom edge\n",
    "            # 5 [(i-1)%rows, (j-1)%cols]: Top-left diagonal; wraps if at (grid) corner\n",
    "            # 6 [(i-1)%rows, (j+1)%cols]: Top-right diagonal; wraps if at corner\n",
    "            # 7 [(i+1)%rows, (j-1)%cols]: Bottom-left diagonal; wraps if at corner\n",
    "            # 8 [(i+1)%rows, (j+1)%cols]: Bottom-right diagonal; wraps if at corner\n",
    "            #\n",
    "            # The values are added together to count living neighbors. The use of the \n",
    "            # modulo operation (%) ensures that the grid behaves as a torus, \n",
    "            # allowing cells on the edges of the grid to consider cells on the \n",
    "            # opposite edge as neighbors.\n",
    "\n",
    "            total = int((grid[i, (j-1)%cols] + grid[i, (j+1)%cols] +\n",
    "                         grid[(i-1)%rows, j] + grid[(i+1)%rows, j] +\n",
    "                         grid[(i-1)%rows, (j-1)%cols] + grid[(i-1)%rows, (j+1)%cols] +\n",
    "                         grid[(i+1)%rows, (j-1)%cols] + grid[(i+1)%rows, (j+1)%cols]))\n",
    "\n",
    "            # Implementing the rules of Conway's Game of Life\n",
    "\n",
    "            # Rules 1 (die if < 2 neighbors) & 3 (die if > 3 neighbors)\n",
    "            if grid[i, j] == 1 and (total < 2 or total > 3): \n",
    "                new_grid[i, j] = 0 # 0 = dead, will be empty in plot\n",
    "            # Rule 4: Dead cell with 3 live neighbors becomes a live cell                \n",
    "            elif grid[i, j] == 0 and total == 3: \n",
    "                new_grid[i, j] = 1 # 1 = live, will be filled in plot\n",
    "            #################    \n",
    "            # To think about: why don't we need an explicit statement for Rule 2?\n",
    "            #################\n",
    "            \n",
    "    # return updated states of cells            \n",
    "    return new_grid\n",
    "\n",
    "# Class to handle the Game of Life animation\n",
    "class GameOfLifeAnimation:\n",
    "    def __init__(self):\n",
    "        # Creating input widgets for user to define the grid properties\n",
    "        self.rows_text = widgets.Text(value='100', description='Rows:')\n",
    "        self.cols_text = widgets.Text(value='100', description='Cols:')\n",
    "        self.initial_cells_text = widgets.Text(value='1000', description='Initial Cells:')\n",
    "        self.history_text = widgets.Text(value='10', description='History:')\n",
    "        self.timesteps_text = widgets.Text(value='200', description='Timesteps:')\n",
    "        self.interval_text = widgets.Text(value='50', description='Interval (ms):')\n",
    "\n",
    "        # These set the default proportions of the 'display' where the grid will appear.\n",
    "        # You can make the plot larger or smaller with this, or by looking for the dragable\n",
    "        # grey corner to the bottom left of the plot window. \n",
    "        plot_width = 6\n",
    "        plot_height = 6\n",
    "        \n",
    "        fig, ax = plt.subplots(figsize=(plot_width, plot_height)) # Creating plot area\n",
    "        self.ax = ax\n",
    "        plt.axis('on') # plot border around plot area\n",
    "        plt.xticks([]) # do not plot x ticks\n",
    "        plt.yticks([]) # do not plot y ticks\n",
    "\n",
    "        # Initializing variables for the animation\n",
    "        self.animation = None\n",
    "        self.paused = False\n",
    "        self.history = deque(maxlen=int(self.history_text.value)) # Using deque to store history of states\n",
    "        #self.history = []\n",
    "        self.current_timestep = 0\n",
    "\n",
    "        # Creating buttons to start, pause, move forward, and move back in the simulation\n",
    "        self.start_button = widgets.Button(description=\"Start\")\n",
    "        self.start_button.on_click(self.start)\n",
    "        self.pause_button = widgets.Button(description=\"Pause\")\n",
    "        self.pause_button.on_click(self.toggle_pause)\n",
    "        self.forward_button = widgets.Button(description=\"Forward\")\n",
    "        self.forward_button.on_click(self.forward)\n",
    "        self.back_button = widgets.Button(description=\"Back\")\n",
    "        self.back_button.on_click(self.back)\n",
    "\n",
    "        # Displaying the widgets\n",
    "        display(self.rows_text, self.cols_text, self.initial_cells_text, self.history_text,\n",
    "                self.interval_text, self.timesteps_text, self.start_button, self.pause_button,\n",
    "                self.forward_button, self.back_button)\n",
    "\n",
    "    # Function to start the animation\n",
    "    def start(self, b):\n",
    "        self.current_timestep = 0\n",
    "        rows = int(self.rows_text.value)\n",
    "        cols = int(self.cols_text.value)\n",
    "        initial_cells = int(self.initial_cells_text.value)\n",
    "        self.history = deque(maxlen=int(self.history_text.value))\n",
    "        self.grid = initialize_grid(rows, cols, initial_cells)\n",
    "        self.history.append(self.grid.copy())\n",
    "        self.ax.clear()\n",
    "        plt.axis('on')\n",
    "        plt.xticks([])\n",
    "        plt.yticks([])\n",
    "        plt.xlim(-0.5, cols - 0.5)\n",
    "        plt.ylim(rows - 0.5, -0.5)\n",
    "        self.im = plt.imshow(self.grid, cmap=\"binary\")\n",
    "        plt.gca().add_patch(plt.Rectangle((-0.5, -0.5), cols, rows, linewidth=1, edgecolor=\"lightblue\", facecolor=\"none\"))\n",
    "        self.animation = animation.FuncAnimation(plt.gcf(), self.update, frames=int(self.timesteps_text.value), interval=int(self.interval_text.value), blit=True, repeat=False)\n",
    "        plt.show()\n",
    "\n",
    "    # Function to pause or resume the animation\n",
    "    def toggle_pause(self, b):\n",
    "        if self.current_timestep >= int(self.timesteps_text.value) - 1:\n",
    "            return\n",
    "        if self.animation:\n",
    "            if self.paused:\n",
    "                self.animation.event_source.start()\n",
    "                self.pause_button.description = \"Pause\"\n",
    "            else:\n",
    "                self.animation.event_source.stop()\n",
    "                self.pause_button.description = \"Resume\"\n",
    "            self.paused = not self.paused\n",
    "\n",
    "    # Function to move one step forward in the simulation\n",
    "    def forward(self, b):\n",
    "        # 'is not None' makes sure cell is initialized;\n",
    "        # timestep part makes sure we are within allowable number of time steps\n",
    "        if self.grid is not None and self.current_timestep < int(self.timesteps_text.value):\n",
    "            self.grid = update_grid(self.grid)\n",
    "            self.history.append(self.grid.copy())\n",
    "            self.im.set_array(self.grid)\n",
    "            plt.draw()\n",
    "            self.current_timestep += 1\n",
    "            self.update_title()\n",
    "\n",
    "    # Function to move one step back in the simulation\n",
    "    def back(self, b):\n",
    "        if self.history:\n",
    "            self.history.pop()\n",
    "            if self.history:\n",
    "                self.grid = self.history[-1].copy()\n",
    "                self.im.set_array(self.grid)\n",
    "                plt.draw()\n",
    "                self.current_timestep -= 1\n",
    "                self.update_title()\n",
    "\n",
    "    # Function to update the animation frame\n",
    "    def update(self, i):\n",
    "        if i >= int(self.timesteps_text.value):\n",
    "            self.animation.event_source.stop()\n",
    "            return (self.im,)\n",
    "\n",
    "        self.grid = update_grid(self.grid)\n",
    "        self.history.append(self.grid.copy())\n",
    "        self.current_timestep = i\n",
    "        self.update_title()\n",
    "        self.im.set_array(self.grid)\n",
    "        return (self.im,)\n",
    "\n",
    "    # Function to update the title of the plot\n",
    "    def update_title(self):\n",
    "        self.ax.set_title(f\"Conway's Game of Life - Timestep {self.current_timestep}\")\n",
    "\n",
    "# Creating an instance of the GameOfLifeAnimation class to start the simulation\n",
    "game_of_life_anim = GameOfLifeAnimation()\n"
   ]
  },
  {
   "cell_type": "markdown",
   "id": "9742f1f6-8843-4519-b0cc-289258e73ca4",
   "metadata": {},
   "source": [
    "## Lab exercises\n",
    "\n",
    "*To complete this lab, compose a short text document. Copy and paste the questions in, and answer below the questions. Make sure to address each part. Save the document as plain text, RTF, .doc, .docx, or PDF. Do not send a link to a google doc, since those can be updated after you turn them in.*\n",
    "\n",
    "*Plan to spend 30-60 minutes on this. You can of course do more. You do not have to exhaustively address every point -- just explore each one and provide a brief response about each (part of each) question in your report. \n",
    "\n",
    "1. Just do a few runs. With the default parameters, how stable is the system after 200 time steps? 'Static' would mean that there are no more changes, even if there are some elements that are oscillating on and off. Note that the plot stops updating after 200 timesteps by default; that stopping is not a static state, we've just cut it off. To run repeated simulations, just click the `Start` button again. \n",
    "\n",
    "***Note.*** *If you want the plot to be larger or smaller, click and drag the grey triangle you should see to the lower right of the plot.*\n",
    "\n",
    "2. If things tend to still change after 200 timesteps, increase the number of time steps and run a few more simulations -- can you determine a value by which the system *tends* to be stable/static? If instead you find that the system becomes stable/static earlier than 200, report that value. If you are increasing the number of timesteps, try a few runs at different values. You do not need to do this for hours and hours! \n",
    "\n",
    "***Note.*** *You may find that the simulator gets 'confused' sometimes, such that you can't really read the timestep value at the top of the plot. This can happen if you click* `Start` *while a simulation is still running, for example. What happens is that more updates have been calculated by the simulation code faster than the plot can bd updated. If this happens, there are a few ways to fix it. (1) Press* `Pause` *and wait until it actually pauses (after all pending updates happen). You will likely have to press* `Resume` *to continue. (2) Change* `Interval` *to a larger number. This is the number of milliseconds the animation function waits before trying to plot the next update. Larger values may allow the system to work more smoothly, though I have not been able to verify that yet. (3) If all else fails, you can choose *`Restart kernel`* from the *`Kernel`* menu. Note that this will relaunch the entire notebook and any changes you have made will be lost.*\n",
    "\n",
    "*Another way things can get wonky is if you have set `Timesteps` to a very large value. Currently, I have not been able to find a way to gracefully interupt a run, so you may have to wait until the maximum timestep is reached, or restart the kernel. You can tell if the system is still running by looking at the *`Python 3 (ipykernel)`* message on the bottom of the window; if it says 'busy' it is still running. There is also a message at the top right of this tab.*\n",
    "\n",
    "3. Let's try changing *initial conditions* instead. First, explore `Initial cells`. This is how many cells are selected at random to be *live* at the start of the simulation. What happens when you make this very small? What about very big? Can you find a value that tends to lead the system to become stable before 200 ms?\n",
    "\n",
    "4. Now try changing the grid size. Try 50 rows and 100 columns (you may need to adjust the plot size to make it conveniently visible -- click and drag the grey triangle to the bottom right of the plot). Explore other values -- what happens with very small or very large plots? \n",
    "\n",
    "***Challenge question.*** \n",
    "\n",
    "5. Do any tendencies emerge that you can express mathematically (even just in terms of ratios, perhaps)? \n",
    "\n",
    "\n",
    "\n",
    "\n"
   ]
  },
  {
   "cell_type": "code",
   "execution_count": null,
   "id": "e0b4bc17-1197-47df-bee4-ceb8d4be1edf",
   "metadata": {},
   "outputs": [],
   "source": []
  }
 ],
 "metadata": {
  "kernelspec": {
   "display_name": "Python 3 (ipykernel)",
   "language": "python",
   "name": "python3"
  },
  "language_info": {
   "codemirror_mode": {
    "name": "ipython",
    "version": 3
   },
   "file_extension": ".py",
   "mimetype": "text/x-python",
   "name": "python",
   "nbconvert_exporter": "python",
   "pygments_lexer": "ipython3",
   "version": "3.10.9"
  }
 },
 "nbformat": 4,
 "nbformat_minor": 5
}
